{
  "cells": [
    {
      "cell_type": "code",
      "execution_count": null,
      "metadata": {
        "id": "XqOI185olb9W"
      },
      "outputs": [],
      "source": [
        "%matplotlib inline"
      ]
    },
    {
      "cell_type": "code",
      "execution_count": null,
      "metadata": {
        "colab": {
          "base_uri": "https://localhost:8080/"
        },
        "id": "G0SU57-Vewmm",
        "outputId": "5bc24222-7336-4a54-99c2-422d17ef49dc"
      },
      "outputs": [
        {
          "name": "stdout",
          "output_type": "stream",
          "text": [
            "Mounted at /content/drive\n"
          ]
        }
      ],
      "source": [
        "from google.colab import drive\n",
        "drive.mount('/content/drive')"
      ]
    },
    {
      "cell_type": "code",
      "execution_count": null,
      "metadata": {
        "id": "lTRvCVQWfY6r"
      },
      "outputs": [],
      "source": [
        "import pandas as pd\n",
        "poi=pd.read_csv('/content/language.csv')"
      ]
    },
    {
      "cell_type": "code",
      "execution_count": null,
      "metadata": {
        "id": "91_kdN7bfeZ5"
      },
      "outputs": [],
      "source": [
        "sview=pd.read_csv('/content/streetview2.csv')"
      ]
    },
    {
      "cell_type": "code",
      "execution_count": null,
      "metadata": {
        "colab": {
          "base_uri": "https://localhost:8080/",
          "height": 833
        },
        "id": "bk_L8y3jfjff",
        "outputId": "c8c7e9a9-76bd-4057-bc6a-148d140dd7a1"
      },
      "outputs": [
        {
          "data": {
            "text/html": [
              "<div>\n",
              "<style scoped>\n",
              "    .dataframe tbody tr th:only-of-type {\n",
              "        vertical-align: middle;\n",
              "    }\n",
              "\n",
              "    .dataframe tbody tr th {\n",
              "        vertical-align: top;\n",
              "    }\n",
              "\n",
              "    .dataframe thead th {\n",
              "        text-align: right;\n",
              "    }\n",
              "</style>\n",
              "<table border=\"1\" class=\"dataframe\">\n",
              "  <thead>\n",
              "    <tr style=\"text-align: right;\">\n",
              "      <th></th>\n",
              "      <th>id</th>\n",
              "      <th>description</th>\n",
              "      <th>tags</th>\n",
              "      <th>lat_gcj</th>\n",
              "      <th>lon_gcj</th>\n",
              "      <th>lat_wgs</th>\n",
              "      <th>lon_wgs</th>\n",
              "      <th>pov_exp</th>\n",
              "      <th>heading</th>\n",
              "      <th>POI</th>\n",
              "      <th>POI32</th>\n",
              "      <th>POI64</th>\n",
              "      <th>CATEGORY</th>\n",
              "      <th>CATEGORY50</th>\n",
              "      <th>CATEGORY100</th>\n",
              "      <th>language2</th>\n",
              "    </tr>\n",
              "  </thead>\n",
              "  <tbody>\n",
              "    <tr>\n",
              "      <th>0</th>\n",
              "      <td>10141003150306134427600</td>\n",
              "      <td>Ｓ１１３</td>\n",
              "      <td>GENERAL</td>\n",
              "      <td>30.458431</td>\n",
              "      <td>114.307388</td>\n",
              "      <td>30.460880</td>\n",
              "      <td>114.301952</td>\n",
              "      <td>2</td>\n",
              "      <td>153</td>\n",
              "      <td>[  4154 395493 208493  19057 395492 216694 332...</td>\n",
              "      <td>[  4154 395493 208493  19057 395492 216694 332...</td>\n",
              "      <td>[  4154 395493 208493  19057 395492 216694 332...</td>\n",
              "      <td>['公交车站相关', '美容美发店', '快餐厅', '工厂', '维修站点', '中餐厅'...</td>\n",
              "      <td>['公交车站相关', '美容美发店', '快餐厅', '工厂', '维修站点', '中餐厅'...</td>\n",
              "      <td>['公交车站相关', '美容美发店', '快餐厅', '工厂', '维修站点', '中餐厅'...</td>\n",
              "      <td>Tree Plant House Window Car Land Street Billbo...</td>\n",
              "    </tr>\n",
              "    <tr>\n",
              "      <th>1</th>\n",
              "      <td>10141003150306134525400</td>\n",
              "      <td>Ｓ１１３</td>\n",
              "      <td>GENERAL</td>\n",
              "      <td>30.461331</td>\n",
              "      <td>114.306847</td>\n",
              "      <td>30.463780</td>\n",
              "      <td>114.301411</td>\n",
              "      <td>2</td>\n",
              "      <td>16</td>\n",
              "      <td>[216628 221539 218523 395495  32257 127973  32...</td>\n",
              "      <td>[216628 221539 218523 395495  32257 127973  32...</td>\n",
              "      <td>[216628 221539 218523 395495  32257 127973  32...</td>\n",
              "      <td>['餐饮相关', '中餐厅', '餐饮相关', '物流速递', '其它农林牧渔基地', '汽...</td>\n",
              "      <td>['餐饮相关', '中餐厅', '餐饮相关', '物流速递', '其它农林牧渔基地', '汽...</td>\n",
              "      <td>['餐饮相关', '中餐厅', '餐饮相关', '物流速递', '其它农林牧渔基地', '汽...</td>\n",
              "      <td>Tree House Plant Window Footwear Land Human Wh...</td>\n",
              "    </tr>\n",
              "    <tr>\n",
              "      <th>2</th>\n",
              "      <td>10141003150306134608900</td>\n",
              "      <td>Ｓ１１３</td>\n",
              "      <td>GENERAL</td>\n",
              "      <td>30.463268</td>\n",
              "      <td>114.308234</td>\n",
              "      <td>30.465714</td>\n",
              "      <td>114.302797</td>\n",
              "      <td>2</td>\n",
              "      <td>228</td>\n",
              "      <td>[342477  32463  32451  32219  32015 446011 216...</td>\n",
              "      <td>[342477  32463  32451  32219  32015 446011 216...</td>\n",
              "      <td>[342477  32463  32451  32219  32015 446011 216...</td>\n",
              "      <td>['政府及社会团体相关', '公司', '公司', '机械电子', '公司', '科教文化场...</td>\n",
              "      <td>['政府及社会团体相关', '公司', '公司', '机械电子', '公司', '科教文化场...</td>\n",
              "      <td>['政府及社会团体相关', '公司', '公司', '机械电子', '公司', '科教文化场...</td>\n",
              "      <td>Tree Window House Plant Car Building Palm Whee...</td>\n",
              "    </tr>\n",
              "    <tr>\n",
              "      <th>3</th>\n",
              "      <td>10141003150306134621500</td>\n",
              "      <td>Ｓ１１３</td>\n",
              "      <td>GENERAL</td>\n",
              "      <td>30.463926</td>\n",
              "      <td>114.308983</td>\n",
              "      <td>30.466371</td>\n",
              "      <td>114.303544</td>\n",
              "      <td>2</td>\n",
              "      <td>225</td>\n",
              "      <td>[ 32219  32015 342477  32463 446011 120814 307...</td>\n",
              "      <td>[ 32219  32015 342477  32463 446011 120814 307...</td>\n",
              "      <td>[ 32219  32015 342477  32463 446011 120814 307...</td>\n",
              "      <td>['机械电子', '公司', '政府及社会团体相关', '公司', '科教文化场所', '政...</td>\n",
              "      <td>['机械电子', '公司', '政府及社会团体相关', '公司', '科教文化场所', '政...</td>\n",
              "      <td>['机械电子', '公司', '政府及社会团体相关', '公司', '科教文化场所', '政...</td>\n",
              "      <td>Tree Window House Building Car Train Plant Whe...</td>\n",
              "    </tr>\n",
              "    <tr>\n",
              "      <th>4</th>\n",
              "      <td>10141003150306134625100</td>\n",
              "      <td>Ｓ１１３</td>\n",
              "      <td>GENERAL</td>\n",
              "      <td>30.464176</td>\n",
              "      <td>114.309251</td>\n",
              "      <td>30.466621</td>\n",
              "      <td>114.303812</td>\n",
              "      <td>2</td>\n",
              "      <td>39</td>\n",
              "      <td>[ 32219  32015 446011 342477  32463 120814 307...</td>\n",
              "      <td>[ 32219  32015 446011 342477  32463 120814 307...</td>\n",
              "      <td>[ 32219  32015 446011 342477  32463 120814 307...</td>\n",
              "      <td>['机械电子', '公司', '科教文化场所', '政府及社会团体相关', '公司', '政...</td>\n",
              "      <td>['机械电子', '公司', '科教文化场所', '政府及社会团体相关', '公司', '政...</td>\n",
              "      <td>['机械电子', '公司', '科教文化场所', '政府及社会团体相关', '公司', '政...</td>\n",
              "      <td>Tree Window House Plant Car Wheel</td>\n",
              "    </tr>\n",
              "  </tbody>\n",
              "</table>\n",
              "</div>"
            ],
            "text/plain": [
              "                        id  ...                                          language2\n",
              "0  10141003150306134427600  ...  Tree Plant House Window Car Land Street Billbo...\n",
              "1  10141003150306134525400  ...  Tree House Plant Window Footwear Land Human Wh...\n",
              "2  10141003150306134608900  ...  Tree Window House Plant Car Building Palm Whee...\n",
              "3  10141003150306134621500  ...  Tree Window House Building Car Train Plant Whe...\n",
              "4  10141003150306134625100  ...                  Tree Window House Plant Car Wheel\n",
              "\n",
              "[5 rows x 16 columns]"
            ]
          },
          "execution_count": 4,
          "metadata": {},
          "output_type": "execute_result"
        }
      ],
      "source": [
        "poi.head()"
      ]
    },
    {
      "cell_type": "code",
      "execution_count": null,
      "metadata": {
        "colab": {
          "base_uri": "https://localhost:8080/"
        },
        "id": "K9j2TYscJgt6",
        "outputId": "107ea940-ce7e-4bcc-f20e-d167ce55508f"
      },
      "outputs": [
        {
          "name": "stdout",
          "output_type": "stream",
          "text": [
            "{'体育休闲服务': ['体育休闲服务场所', '健身中心', '运动场所', '休闲场所', 'KTV', '网吧', '台球厅', '乒乓球馆', '娱乐场所', '棋牌室', '疗养院', '游乐场', '游戏厅', '跆拳道场馆', '篮球场馆', '体育休闲服务', '酒吧', '剧场', '网球场', '游泳馆', '羽毛球场', '水上活动中心', '溜冰场', '夜总会', '度假村', '电影院', '综合体育馆', '保龄球馆', '影剧院相关', '足球场', '迪厅', '垂钓园', '高尔夫球场', '采摘园', '户外健身场所', '滑雪场', '高尔夫练习场', '马术俱乐部', '度假疗养场所', '高尔夫相关', '赛马场', '海滨浴场', '露营地', '音乐厅', '壁球场'], '室内设施': ['室内设施'], '餐饮服务': ['火锅店', '四川菜(川菜)', '餐饮服务', '餐饮相关', '中餐厅', '特色/地方风味餐厅', '糕饼店', '快餐厅', '咖啡厅', '冷饮店', '外国餐厅', '综合酒楼', '茶艺馆', '清真菜馆', '日本料理', '海鲜酒楼', '西餐厅(综合风味)', '茶餐厅', '云贵菜', '东北菜', '韩国料理', '广东菜(粤菜)', '湖南菜(湘菜)', '休闲餐饮场所', '甜品店', '湖北菜(鄂菜)', '必胜客', '牛扒店(扒房)', '永和豆浆', '浙江菜', '中式素菜馆', '肯德基', '意式菜品餐厅', '安徽菜(徽菜)', '台湾菜', '星巴克咖啡', '法式菜品餐厅', '西北菜', '老字号', '麦当劳', '上海菜', '潮州菜', '江苏菜', '大家乐', '北京菜', '上岛咖啡', '其它亚洲菜', '泰国/越南菜品餐厅', '山东菜(鲁菜)', '印度风味', '巴西菜', 'Pacific Coffee Company', '美式风味', '德国菜', '福建菜', '地中海风格菜品', '呷哺呷哺'], '住宿服务': ['四星级宾馆', '住宿服务相关', '旅馆招待所', '住宿服务', '宾馆酒店', '三星级宾馆', '经济型连锁酒店', '五星级宾馆', '青年旅舍', '六星级及以上宾馆'], '通行设施': ['通行设施', '临街院门', '临街院正门', '建筑物正门', '建筑物门'], '汽车维修': ['汽车维修', '汽车综合维修', '斯柯达维修', '东风维修', '东风本田维修', '奇瑞维修', '别克维修', '货车维修', '福特维修', '北京现代维修', '进口现代维修', '东风日产维修', '吉利维修', '宝马维修', '现代维修', '劳斯莱斯维修', '广汽丰田维修', '梅赛德斯-奔驰维修', '东风雪铁龙维修', '东风标致维修', '马自达维修', '林肯维修', '雷诺维修', '名爵维修', '一汽-大众奥迪维修', '广汽本田维修', '上海大众维修', '沃尔沃维修', '本田讴歌维修', '三菱维修', '进口大众维修', '法拉利维修', '宝马MINI维修', '兰博基尼维修', '雷克萨斯维修', '玛莎拉蒂维修', '一汽丰田维修', '东风悦达起亚维修', '观致维修', 'DS维修', '吉普维修', '雪佛兰维修', '凯迪拉克维修', '斯巴鲁维修', '江淮维修', '一汽-大众维修', '郑州日产维修', '陕西重汽维修', '进口起亚维修', '保时捷维修', '东风货车维修', '福田卡车维修', '英菲尼迪维修', '红旗维修'], '公司企业': ['公司', '网络科技', '公司企业', '机械电子', '电信公司', '工厂', '商业贸易', '广告装饰', '建筑公司', '其它农林牧渔基地', '医药公司', '冶金化工', '知名企业', '花卉苗圃基地', '农场', '水果基地', '矿产公司', '家禽养殖基地', '渔场', '林场'], '科教文化服务': ['科教文化场所', '高等院校', '学校', '成人教育', '中学', '小学', '幼儿园', '美术馆', '科研机构', '培训机构', '图书馆', '职业技术学校', '驾校', '会展中心', '文化宫', '传媒机构', '展览馆', '档案馆', '文艺团体', '博物馆', '报社', '科技馆', '科教文化服务', '学校内部设施', '杂志社', '出版社', '电视台', '电台', '天文馆'], '交通设施服务': ['公共停车场', '公交车站相关', '停车场入口', '交通设施服务', '停车场相关', '停车场出口', '专用停车场', '地铁站', '路边停车场', '交通服务相关', '火车站', '停车场出入口', '长途汽车站', '出入口', '候车室', '港口码头', '轮渡站', '机场货运处', '出站口', '站台', '货运火车站', '票务相关', '机场出发/到达', '飞机场', '人渡口', '售票', '改签', '进站口/检票口', '货运港口码头', '车渡口', '客运港', '机场相关', '候机室', '退票', '出租车'], '医疗保健服务': ['药房', '诊所', '口腔医院', '三级甲等医院', '专科医院', '卫生院', '整形美容', '医疗保健用品', '医疗保健服务场所', '综合医院', '疾病预防', '肿瘤医院', '妇科医院', '急救中心', '动物医疗场所', '精神病医院', '骨科医院', '宠物诊所', '眼科医院', '兽医站', '医疗保健服务', '医药保健相关', '脑科医院', '耳鼻喉医院', '传染病医院', '胸科医院'], '金融保险服务': ['兴业银行ATM', '金融保险机构', '中国农业银行ATM', '中国银行', '自动提款机', '中国工商银行', '银行', '中国工商银行ATM', '中国邮政储蓄银行', '中国建设银行', '中国民生银行ATM', '华夏银行ATM', '中国建设银行ATM', '招商银行ATM', '兴业银行', '中国光大银行', '保险公司', '中国邮政储蓄银行ATM', '证券营业厅', '交通银行ATM', '银行相关', '中国农业银行', '中国人寿保险公司', '农村商业银行ATM', '华泰财产保险股份有限公司', '农村商业银行', '中国人民保险公司', '中国人民银行', '泰康人寿保险公司', '中国太平洋保险', '中国平安保险公司', '新华人寿保险公司', '中信银行', '广发银行ATM', '金融保险服务', '中国民生银行', '交通银行', '广发银行', '中国银行ATM', '中信银行ATM', '汇丰银行', '平安银行', '平安银行ATM', '中国光大银行ATM', '汇丰银行ATM', '上海浦东发展银行ATM', '证券公司', '招商银行', '华夏银行', '财务公司', '上海浦东发展银行', '东亚银行', '东亚银行ATM', '上海银行ATM', '法国兴业银行ATM', '国家开发银行', '中信银行(国际)ATM', '渣打银行', '巴克莱银行ATM', '法国兴业银行', '渣打银行ATM', '中国进出口银行'], '公共设施': ['公共设施', '公共厕所', '紧急避难场所', '报刊亭', '男洗手间', '女洗手间', '公用电话'], '政府机构及社会团体': ['政府机关相关', '公安警察', '乡镇以下级政府及事业单位', '行业协会', '社会治安机构', '公证鉴定机构', '乡镇级政府及事业单位', '社会团体相关', '区县级政府及事业单位', '公检法机关', '省直辖市级政府及事业单位', '验车场', '法院', '残联', '红十字会', '地市级政府及事业单位', '交通管理机构', '政府及社会团体相关', '检察院', '地税机关', '慈善机构', '工商部门', '国税机关', '政府机构及社会团体', '教会', '共青团', '国家级机关及事业单位', '外地政府办', '妇联', '民主党派', '工商税务机构', '消防机关', '交通执法站', '交通车辆管理相关', '消费者协会', '车辆管理机构', '车辆通行证办理处', '外国使领馆', '外国机构相关', '少先队'], '风景名胜': ['风景名胜', '纪念馆', '寺庙道观', '国家级景点', '旅游景点', '公园', '城市广场', '公园广场', '教堂', '水族馆', '植物园', '动物园', '省级景点', '回教寺', '世界遗产'], '商务住宅': ['住宅小区', '商务写字楼', '别墅', '商务住宅相关', '产业园区', '宿舍', '住宅区', '商住两用楼宇', '商务住宅', '楼宇相关', '社区中心', '工业大厦建筑物'], '摩托车服务': ['摩托车服务相关', '摩托车维修', '摩托车销售', '摩托车服务'], '购物服务': ['专营店', '购物中心', '数码电子', '家具城', '品牌服装店', '普通商场', '超市', '购物相关场所', '便民商店/便利店', '文化用品店', '厨卫市场', '服装鞋帽皮具店', '步行街', '布艺市场', '其它个人用品店', '家居建材市场', '果品市场', '花卉市场', '家电电子卖场', '儿童用品店', '烟酒专卖店', '书店', '品牌鞋店', '购物服务', '品牌皮具店', '建材五金市场', '综合市场', '体育用品店', '珠宝首饰工艺品', '自行车专卖店', '眼镜店', '手机销售', '商场', '农副产品市场', '礼品饰品店', '宠物用品店', '音像店', '古玩字画店', '特殊买卖场所', '水产海鲜市场', '李宁专卖店', '旧货市场', '蔬菜市场', '宠物市场', '特色商业街', '灯具瓷器市场', '钟表店', '户外用品', '家具建材综合市场', '麦德龙', '小商品市场', '花鸟鱼虫市场', '土特产专卖店', '典当行', '综合家电商场', '苏宁', '屈臣氏', '国美', '耐克专卖店', '阿迪达斯专卖店', '摄影器材店', '沃尔玛', '华润', '北京华联', '卜蜂莲花', '乐天玛特', '拍卖行'], '汽车销售': ['汽车销售', '东风销售', '福特销售', '货车销售', '荣威销售', '宝马销售', '东风悦达起亚销售', '大众销售', '梅赛德斯-奔驰销售', '宝马MINI销售', '东风日产销售', '斯巴鲁销售', '三菱销售', '一汽大众销售', '保时捷销售', '雷克萨斯销售', '现代销售', '奇瑞销售', '雷诺销售', '北京现代销售', '进口起亚销售', '进口现代销售', '上海大众销售', '一汽丰田销售', '广汽丰田销售', '起亚销售', 'DS销售', '劳斯莱斯销售', '玛莎拉蒂销售', '广汽本田销售', '马自达销售', '郑州日产销售', '东风货车销售', '一汽-大众奥迪销售', '克莱斯勒销售', '江淮销售', '陕西重汽销售', '福田卡车销售', '一汽解放销售', '吉利销售', '北奔重汽销售', '江淮货车销售', '东风雪铁龙销售', '一汽-大众销售', '雪佛兰销售', '别克销售', '一汽大众奥迪销售', '凯迪拉克销售', '菲亚特销售', '东风本田销售', '广汽三菱销售', '捷豹销售', '吉普销售', '宾利销售', '英菲尼迪销售', '雪铁龙销售', '观致销售', '沃尔沃销售', '法拉利销售', '林肯销售', '斯柯达销售', '东风标致销售', '路虎销售', '进口大众销售', '名爵销售'], '汽车服务': ['中国石化', '中国石油', '汽车租赁', '汽车养护', '汽车配件销售', '洗车场', '汽车服务相关', '加气站', '汽车俱乐部', '汽车租赁还车', '加油站', '道达尔', '其它能源站', '充电站', '汽车服务', '二手车交易', '汽车救援', '加水站'], '生活服务': ['彩票彩券销售点', '摄影冲印', '飞机票代售点', '长途汽车票代售点', '洗浴推拿场所', '生活服务场所', '售票处', '物流速递', '美容美发店', '中国电信营业厅', '火车票代售点', '公园景点售票处', '中介机构', '旅行社', '维修站点', '洗衣店', '邮局', '中国移动营业厅', '婴儿游泳馆', '生活服务', '律师事务所', '人才市场', '中国联通营业厅', '电讯营业厅', '专利事务所', '丧葬设施', '邮政速递', '自来水营业厅', '陵园', '事务所', '电力营业厅', '会计师事务所', '婴儿服务场所', '物流仓储场地', '评估事务所', '公墓', '中国铁通营业厅', '信息咨询中心', '公交卡/月票代售点', '认证事务所', '搬家公司', '殡仪馆', '服务中心', '船票代售点', '行李查询/行李问询'], '地名地址信息': ['楼栋号', '山', '路口名', '城市快速路入口', '村庄级地名', '城市快速路出口', '道路名', '热点地名', '河流', '门牌信息', '普通地名', '乡镇级地名', '桥', '岛屿', '湖泊', '立交桥', '隧道', '街道级地名', '高速路出口', '自然地名', '地名地址信息', '高速路入口', '区县级地名', '地市级地名'], '道路附属设施': ['收费站', '高速服务区', '高速加油站服务区', '道路附属设施', '违章停车', '高速停车区']}\n"
          ]
        }
      ],
      "source": [
        "import json\n",
        "with open(\"/content/drive/MyDrive/base.json\", 'r') as f:\n",
        "    result = json.load(f)\n",
        "    print (result)"
      ]
    },
    {
      "cell_type": "code",
      "execution_count": null,
      "metadata": {
        "colab": {
          "base_uri": "https://localhost:8080/"
        },
        "id": "aqETkiH9J4MS",
        "outputId": "c18258a7-6f1f-49ab-b23e-0acd61ce9410"
      },
      "outputs": [
        {
          "name": "stdout",
          "output_type": "stream",
          "text": [
            "{'生活服务场所': ['生活服务场所', '生活服务'], '福特特约维修': ['福特维修', '汽车维修', '马自达维修', '林肯维修'], '医药保健销售店': ['药房', '医疗保健用品', '医疗保健服务', '医药保健相关'], '梅赛德斯-奔驰卡车维修': ['汽车维修'], '娱乐场所': ['KTV', '网吧', '娱乐场所', '棋牌室', '游戏厅', '体育休闲服务', '酒吧', '夜总会', '迪厅'], '咖啡厅': ['咖啡厅', '餐饮服务', '星巴克咖啡', '上岛咖啡', 'Pacific Coffee Company'], '公检法机构': ['公安警察', '社会治安机构', '公证鉴定机构', '公检法机关', '法院', '检察院', '政府机构及社会团体', '消防机关'], '汽车维修': ['汽车维修'], '大众特约维修': ['斯柯达维修', '汽车维修', '上海大众维修', '进口大众维修', '兰博基尼维修', '一汽-大众维修'], '自动提款机': ['兴业银行ATM', '中国农业银行ATM', '自动提款机', '中国工商银行ATM', '中国民生银行ATM', '华夏银行ATM', '中国建设银行ATM', '招商银行ATM', '中国邮政储蓄银行ATM', '交通银行ATM', '农村商业银行ATM', '广发银行ATM', '中国银行ATM', '中信银行ATM', '平安银行ATM', '中国光大银行ATM', '金融保险服务', '汇丰银行ATM', '上海浦东发展银行ATM', '东亚银行ATM', '上海银行ATM', '法国兴业银行ATM', '中信银行(国际)ATM', '巴克莱银行ATM', '渣打银行ATM'], '江淮货车销售': ['江淮货车销售'], '医疗保健服务场所': ['医疗保健服务场所', '医疗保健服务'], '陕西重汽维修': ['陕西重汽维修'], '展览馆': ['展览馆', '科教文化服务'], '洗浴推拿场所': ['洗浴推拿场所', '生活服务'], '机场相关': ['机场货运处', '交通设施服务', '机场出发/到达', '飞机场', '机场相关', '候机室'], '诊所': ['诊所', '医疗保健服务'], '梅赛德斯-奔驰特约维修': ['梅赛德斯-奔驰维修'], '摄影冲印店': ['摄影冲印', '生活服务'], '博物馆': ['博物馆'], '保时捷特约维修': ['保时捷维修'], '快餐厅': ['快餐厅', '茶餐厅', '必胜客', '永和豆浆', '餐饮服务', '肯德基', '麦当劳', '大家乐', '呷哺呷哺'], '摩托车服务相关': ['摩托车服务相关'], '家居建材市场': ['家具城', '厨卫市场', '布艺市场', '家居建材市场', '建材五金市场', '灯具瓷器市场', '购物服务', '家具建材综合市场'], '餐饮相关场所': ['餐饮相关', '餐饮服务'], '体育休闲服务场所': ['体育休闲服务场所', '体育休闲服务'], '洗车场': ['洗车场', '汽车服务'], '休闲场所': ['休闲场所', '游乐场', '水上活动中心', '体育休闲服务', '垂钓园', '采摘园', '露营地'], '公共设施': ['公共设施'], '雷诺特约维修': ['雷诺维修'], '汽车俱乐部': ['汽车俱乐部'], '搬家公司': ['搬家公司'], '疾病预防机构': ['疾病预防'], '文化宫': ['文化宫'], '金融保险服务机构': ['金融保险机构', '金融保险服务'], '中餐厅': ['火锅店', '四川菜(川菜)', '中餐厅', '特色/地方风味餐厅', '综合酒楼', '清真菜馆', '海鲜酒楼', '云贵菜', '东北菜', '广东菜(粤菜)', '湖南菜(湘菜)', '湖北菜(鄂菜)', '餐饮服务', '浙江菜', '中式素菜馆', '安徽菜(徽菜)', '台湾菜', '西北菜', '老字号', '上海菜', '潮州菜', '江苏菜', '北京菜', '山东菜(鲁菜)', '福建菜'], '便民商店/便利店': ['便民商店/便利店', '购物服务'], '休闲餐饮场所': ['餐饮服务', '休闲餐饮场所'], '茶艺馆': ['茶艺馆', '餐饮服务'], '银行': ['中国银行', '中国工商银行', '银行', '中国邮政储蓄银行', '中国建设银行', '兴业银行', '中国光大银行', '中国农业银行', '农村商业银行', '中国人民银行', '中信银行', '金融保险服务', '中国民生银行', '交通银行', '广发银行', '汇丰银行', '平安银行', '招商银行', '华夏银行', '上海浦东发展银行', '东亚银行', '国家开发银行', '渣打银行', '法国兴业银行', '中国进出口银行'], '民主党派': ['民主党派'], '旅行社': ['旅行社', '生活服务'], '一汽解放销售': ['一汽解放销售'], '天文馆': ['天文馆'], '公共厕所': ['公共厕所', '男洗手间', '女洗手间'], '农林牧渔基地': ['其它农林牧渔基地', '花卉苗圃基地', '农场', '水果基地', '家禽养殖基地', '渔场', '林场', '公司企业'], '汽车养护/装饰': ['汽车养护', '汽车服务', '加水站'], '综合市场': ['果品市场', '综合市场', '农副产品市场', '水产海鲜市场', '旧货市场', '蔬菜市场', '小商品市场', '购物服务'], '专科医院': ['口腔医院', '专科医院', '整形美容', '肿瘤医院', '妇科医院', '精神病医院', '骨科医院', '眼科医院', '医疗保健服务', '脑科医院', '耳鼻喉医院', '传染病医院', '胸科医院'], '荣威维修': ['汽车维修'], '大众特约销售': ['大众销售', '一汽大众销售', '汽车销售', '上海大众销售', '一汽-大众销售', '宾利销售', '斯柯达销售', '进口大众销售'], '住宅区': ['住宅小区', '别墅', '宿舍', '住宅区', '商务住宅', '社区中心'], '彩票彩券销售点': ['彩票彩券销售点'], '名爵维修': ['名爵维修'], '名爵销售': ['名爵销售'], '住宿服务相关': ['住宿服务相关', '住宿服务'], '起亚特约销售': ['东风悦达起亚销售', '汽车销售', '进口起亚销售', '起亚销售'], '港口码头': ['港口码头', '人渡口', '货运港口码头', '车渡口', '客运港'], '交通车辆管理': ['验车场', '交通管理机构', '政府机构及社会团体', '交通执法站', '交通车辆管理相关', '车辆管理机构', '车辆通行证办理处'], '奇瑞特约维修': ['奇瑞维修'], '现代特约维修': ['北京现代维修', '进口现代维修', '现代维修'], '保时捷特约销售': ['保时捷销售'], '本田特约维修': ['汽车维修', '东风本田维修', '广汽本田维修', '本田讴歌维修'], '三菱特约销售': ['三菱销售', '广汽三菱销售'], '克莱斯勒特约维修': ['汽车维修', '吉普维修'], '火车站': ['火车站', '候车室', '出站口', '站台', '货运火车站', '票务相关', '交通设施服务', '售票', '改签', '进站口/检票口', '退票'], '吉利特约维修': ['汽车维修', '吉利维修', '沃尔沃维修'], '克莱斯勒特约销售': ['汽车销售', '克莱斯勒销售', '吉普销售'], '交通服务相关': ['交通服务相关'], '洗衣店': ['洗衣店'], '长途汽车站': ['长途汽车站'], '斯巴鲁特约销售': ['斯巴鲁销售'], '个人用品/化妆品店': ['其它个人用品店', '购物服务'], '影剧院': ['剧场', '电影院', '影剧院相关', '体育休闲服务', '音乐厅'], '人才市场': ['人才市场'], '普通地名': ['村庄级地名', '普通地名', '乡镇级地名', '街道级地名', '地名地址信息', '区县级地名', '地市级地名'], '通用特约销售': ['汽车销售', '雪佛兰销售', '别克销售', '凯迪拉克销售'], '知名企业': ['知名企业', '公司企业'], '斯巴鲁特约维修': ['汽车维修', '斯巴鲁维修'], '丰田特约销售': ['雷克萨斯销售', '汽车销售', '一汽丰田销售', '广汽丰田销售'], '传媒机构': ['传媒机构', '报社', '杂志社', '出版社', '电视台', '电台', '科教文化服务'], '培训机构': ['培训机构', '科教文化服务'], '东风特约维修': ['东风维修', '汽车维修'], '财务公司': ['财务公司'], '文化用品店': ['文化用品店'], '中介机构': ['中介机构', '生活服务'], '科教文化场所': ['科教文化场所', '科教文化服务'], '交通地名': ['路口名', '城市快速路入口', '城市快速路出口', '道路名', '桥', '立交桥', '隧道', '高速路出口', '高速路入口'], '政府机关': ['政府机关相关', '乡镇以下级政府及事业单位', '乡镇级政府及事业单位', '区县级政府及事业单位', '省直辖市级政府及事业单位', '地市级政府及事业单位', '政府机构及社会团体', '国家级机关及事业单位', '外地政府办'], '起亚特约维修': ['东风悦达起亚维修', '进口起亚维修'], '日产特约维修': ['汽车维修', '东风日产维修', '郑州日产维修', '英菲尼迪维修'], '风景名胜': ['风景名胜', '纪念馆', '寺庙道观', '国家级景点', '教堂', '省级景点', '回教寺', '世界遗产'], '超级市场': ['超市', '购物服务', '麦德龙', '屈臣氏', '沃尔玛', '华润', '北京华联', '卜蜂莲花', '乐天玛特'], '银行相关': ['银行相关', '金融保险服务'], '特殊买卖场所': ['特殊买卖场所', '典当行', '拍卖行'], '江淮销售': ['江淮销售'], '摩托车维修': ['摩托车维修', '摩托车服务'], '商务住宅相关': ['商务住宅相关'], '日产特约销售': ['汽车销售', '东风日产销售', '郑州日产销售', '英菲尼迪销售'], '汽车销售': ['汽车销售'], '动物医疗场所': ['动物医疗场所', '宠物诊所', '兽医站', '医疗保健服务'], '二手车交易': ['二手车交易'], '售票处': ['飞机票代售点', '长途汽车票代售点', '售票处', '火车票代售点', '公园景点售票处', '公交卡/月票代售点', '生活服务', '船票代售点'], '美术馆': ['美术馆'], '江淮维修': ['江淮维修'], '体育用品店': ['体育用品店', '李宁专卖店', '户外用品', '耐克专卖店', '阿迪达斯专卖店'], '加气站': ['加气站'], '货车维修': ['货车维修'], '商场': ['购物中心', '普通商场', '购物服务', '商场'], '地铁站': ['地铁站', '出入口'], '奥迪特约维修': ['汽车维修', '一汽-大众奥迪维修'], '充电站': ['充电站', '汽车服务'], '梅赛德斯-奔驰特约销售': ['梅赛德斯-奔驰销售', '汽车销售'], '美容美发店': ['美容美发店', '生活服务'], '急救中心': ['急救中心', '医疗保健服务'], '地名地址信息': ['地名地址信息'], '会展中心': ['会展中心'], '服装鞋帽皮具店': ['品牌服装店', '服装鞋帽皮具店', '品牌鞋店', '品牌皮具店', '购物服务'], '道路附属设施': ['道路附属设施'], '证券公司': ['证券营业厅', '证券公司'], '路虎特约销售': ['汽车销售', '路虎销售'], '科研机构': ['科研机构', '科教文化服务'], '吉利特约销售': ['汽车销售', '吉利销售', '沃尔沃销售'], '维修站点': ['维修站点', '生活服务'], '专卖店': ['专营店', '儿童用品店', '烟酒专卖店', '书店', '珠宝首饰工艺品', '自行车专卖店', '眼镜店', '礼品饰品店', '宠物用品店', '音像店', '古玩字画店', '钟表店', '购物服务', '土特产专卖店', '摄影器材店'], '出租车': ['出租车'], '雷诺特约销售': ['雷诺销售', '汽车销售'], '荣威销售': ['荣威销售'], '东风货车销售': ['东风货车销售'], '家电电子卖场': ['数码电子', '家电电子卖场', '购物服务', '手机销售', '综合家电商场', '苏宁', '国美'], '通用特约维修': ['别克维修', '汽车维修', '雪佛兰维修', '凯迪拉克维修'], '轮渡站': ['轮渡站'], '收费站': ['收费站'], '保险公司': ['保险公司', '中国人寿保险公司', '华泰财产保险股份有限公司', '中国人民保险公司', '泰康人寿保险公司', '中国太平洋保险', '中国平安保险公司', '新华人寿保险公司'], '档案馆': ['档案馆'], '法拉利特约销售': ['玛莎拉蒂销售', '法拉利销售'], '度假疗养场所': ['疗养院', '度假村', '体育休闲服务', '度假疗养场所'], '公用电话': ['公用电话'], '甜品店': ['餐饮服务', '甜品店'], '标致雪铁龙特约销售': ['汽车销售', 'DS销售', '东风雪铁龙销售', '雪铁龙销售', '东风标致销售'], '电讯营业厅': ['中国电信营业厅', '中国移动营业厅', '中国联通营业厅', '生活服务', '电讯营业厅', '中国铁通营业厅'], '公司': ['公司', '网络科技', '机械电子', '电信公司', '商业贸易', '广告装饰', '建筑公司', '公司企业', '医药公司', '冶金化工', '矿产公司'], '建筑物门': ['通行设施', '建筑物正门', '建筑物门'], '丰田特约维修': ['汽车维修', '广汽丰田维修', '雷克萨斯维修', '一汽丰田维修'], '陕西重汽销售': ['陕西重汽销售'], '外国餐厅': ['外国餐厅', '日本料理', '西餐厅(综合风味)', '韩国料理', '牛扒店(扒房)', '意式菜品餐厅', '餐饮服务', '法式菜品餐厅', '其它亚洲菜', '泰国/越南菜品餐厅', '印度风味', '巴西菜', '美式风味', '德国菜', '地中海风格菜品'], '门牌信息': ['楼栋号', '门牌信息'], '信息咨询中心': ['信息咨询中心', '服务中心', '生活服务', '行李查询/行李问询'], '福特特约销售': ['福特销售', '汽车销售', '马自达销售', '林肯销售'], '其它能源站': ['其它能源站', '汽车服务'], '福田卡车销售': ['福田卡车销售'], '福田卡车维修': ['福田卡车维修'], '汽车配件销售': ['汽车配件销售', '汽车服务'], '警示信息': ['违章停车'], '捷豹特约销售': ['捷豹销售'], '楼宇': ['商务写字楼', '商住两用楼宇', '商务住宅', '楼宇相关', '工业大厦建筑物'], '现代特约销售': ['汽车销售', '现代销售', '北京现代销售', '进口现代销售'], '事务所': ['律师事务所', '专利事务所', '事务所', '会计师事务所', '评估事务所', '认证事务所'], '物流速递': ['物流速递', '物流仓储场地', '生活服务'], '丧葬设施': ['丧葬设施', '陵园', '公墓', '殡仪馆'], '邮局': ['邮局', '邮政速递', '生活服务'], '特色商业街': ['步行街', '特色商业街'], '本田特约销售': ['汽车销售', '广汽本田销售', '东风本田销售'], '旅馆招待所': ['旅馆招待所', '住宿服务', '青年旅舍'], '东风特约销售': ['东风销售', '汽车销售'], '风景名胜相关': ['旅游景点', '风景名胜'], '停车场': ['公共停车场', '停车场入口', '交通设施服务', '停车场相关', '停车场出口', '专用停车场', '路边停车场', '停车场出入口'], '宝马特约销售': ['宝马销售', '宝马MINI销售', '劳斯莱斯销售'], '奥迪特约销售': ['一汽-大众奥迪销售', '一汽大众奥迪销售'], '观致销售': ['观致销售'], '婴儿服务场所': ['婴儿游泳馆', '婴儿服务场所'], '图书馆': ['图书馆'], '糕饼店': ['糕饼店', '餐饮服务'], '高尔夫相关': ['高尔夫球场', '高尔夫练习场', '高尔夫相关'], '观致维修': ['观致维修'], '自来水营业厅': ['生活服务', '自来水营业厅'], '外国机构': ['外国使领馆', '外国机构相关'], '临街院门': ['临街院门', '临街院正门'], '花鸟鱼虫市场': ['花卉市场', '宠物市场', '花鸟鱼虫市场'], '文艺团体': ['文艺团体', '科教文化服务'], '自然地名': ['山', '河流', '岛屿', '湖泊', '自然地名', '地名地址信息'], '室内设施': ['室内设施'], '摩托车销售': ['摩托车销售', '摩托车服务'], '科技馆': ['科技馆'], '运动场馆': ['健身中心', '运动场所', '台球厅', '乒乓球馆', '跆拳道场馆', '篮球场馆', '网球场', '游泳馆', '羽毛球场', '溜冰场', '综合体育馆', '保龄球馆', '体育休闲服务', '足球场', '户外健身场所', '滑雪场', '马术俱乐部', '赛马场', '海滨浴场', '壁球场'], '政府及社会团体相关': ['政府及社会团体相关', '政府机构及社会团体'], '菲亚特约销售': ['汽车销售', '菲亚特销售'], '通行设施': ['通行设施'], '宝马特约维修': ['汽车维修', '宝马维修', '劳斯莱斯维修', '宝马MINI维修'], '公司企业': ['公司企业'], '奇瑞特约销售': ['奇瑞销售'], '三菱特约维修': ['汽车维修', '三菱维修'], '报刊亭': ['公共设施', '报刊亭'], '冷饮店': ['餐饮服务', '冷饮店'], '热点地名': ['热点地名'], '标致雪铁龙特约维修': ['汽车维修', '东风雪铁龙维修', '东风标致维修', 'DS维修'], '宾馆酒店': ['四星级宾馆', '住宿服务', '宾馆酒店', '三星级宾馆', '经济型连锁酒店', '五星级宾馆', '六星级及以上宾馆'], '工商税务机构': ['地税机关', '工商部门', '国税机关', '工商税务机构'], '北奔重汽销售': ['北奔重汽销售'], '工厂': ['工厂', '公司企业'], '社会团体': ['行业协会', '社会团体相关', '残联', '红十字会', '慈善机构', '教会', '共青团', '妇联', '消费者协会', '政府机构及社会团体', '少先队'], '汽车救援': ['汽车救援'], '法拉利特约维修': ['法拉利维修', '玛莎拉蒂维修'], '综合医院': ['三级甲等医院', '卫生院', '综合医院', '医疗保健服务'], '驾校': ['驾校', '科教文化服务'], '东风货车维修': ['东风货车维修'], '公园广场': ['公园', '城市广场', '公园广场', '风景名胜', '水族馆', '植物园', '动物园'], '公交车站': ['公交车站相关'], '产业园区': ['产业园区', '商务住宅'], '购物相关场所': ['购物相关场所'], '汽车租赁': ['汽车租赁', '汽车租赁还车'], '紧急避难场所': ['紧急避难场所'], '红旗维修': ['红旗维修'], '学校': ['高等院校', '学校', '成人教育', '中学', '小学', '幼儿园', '职业技术学校', '学校内部设施', '科教文化服务'], '汽车综合维修': ['汽车综合维修', '汽车维修'], '货车销售': ['货车销售'], '电力营业厅': ['电力营业厅', '生活服务'], '服务区': ['高速服务区', '高速加油站服务区', '高速停车区'], '加油站': ['中国石化', '中国石油', '加油站', '道达尔', '汽车服务'], '汽车服务相关': ['汽车服务相关', '汽车服务']}\n"
          ]
        }
      ],
      "source": [
        "# import json\n",
        "with open(\"/content/drive/MyDrive/subtype.json\", 'r') as f:\n",
        "    result2 = json.load(f)\n",
        "    print (result2)"
      ]
    },
    {
      "cell_type": "code",
      "execution_count": null,
      "metadata": {
        "colab": {
          "base_uri": "https://localhost:8080/",
          "height": 269
        },
        "id": "uPou6LgzTGv-",
        "outputId": "fc9c89e5-6e74-4ae7-b3b4-eec31e9c3a34"
      },
      "outputs": [
        {
          "name": "stderr",
          "output_type": "stream",
          "text": [
            "Building prefix dict from the default dictionary ...\n",
            "Dumping model to file cache /tmp/jieba.cache\n",
            "Loading model cost 1.122 seconds.\n",
            "Prefix dict has been built successfully.\n"
          ]
        },
        {
          "data": {
            "image/png": "[encoded data removed]",
            "text/plain": [
              "<Figure size 432x288 with 1 Axes>"
            ]
          },
          "metadata": {
            "needs_background": "light"
          },
          "output_type": "display_data"
        }
      ],
      "source": [
        "import jieba\n",
        "from wordcloud import WordCloud\n",
        "import imageio\n",
        "import matplotlib.pyplot as plt\n",
        "from collections import Counter\n",
        "\n",
        "#Import a text file\n",
        "content = poi['language2'].values.tolist()\n",
        "mylist = list(content)\n",
        "\n",
        "#Iterate over the mylist and cut it into lists\n",
        "word_list = [''.join(jieba.cut(sentence)) for sentence in mylist]\n",
        "\n",
        "#Connect the elements in the word_list with spaces to make it easier to calculate the word frequency\n",
        "new_text = ''.join(word_list)\n",
        "\n",
        "#Word cloud generation based on word frequency\n",
        "con_words = [x for x in jieba.cut(new_text) if len(x) >= 2]\n",
        "fq = Counter(con_words).most_common()\n",
        "fq = dict(fq)\n",
        "\n",
        "#Set the font and background colour of the word cloud\n",
        "wc = WordCloud(background_color='white',max_words=2000).fit_words(fq)#,mask=pac_mask\n",
        "plt.imshow(wc)\n",
        "plt.axis('off')\n",
        "plt.show()"
      ]
    },
    {
      "cell_type": "code",
      "execution_count": null,
      "metadata": {
        "colab": {
          "base_uri": "https://localhost:8080/"
        },
        "id": "6rE45GxbM0Qy",
        "outputId": "b75cadee-c7c4-4827-ee5d-bfd625c85d7c"
      },
      "outputs": [
        {
          "data": {
            "text/plain": [
              "220"
            ]
          },
          "execution_count": 32,
          "metadata": {},
          "output_type": "execute_result"
        }
      ],
      "source": [
        "len(result2)"
      ]
    },
    {
      "cell_type": "code",
      "execution_count": null,
      "metadata": {
        "id": "zV5TD3LgMMH6"
      },
      "outputs": [],
      "source": [
        "def get_subtype_from_cat(CATEGORY):\n",
        "  for i in result2:\n",
        "    if CATEGORY in result2[i]:\n",
        "      return i"
      ]
    },
    {
      "cell_type": "code",
      "execution_count": null,
      "metadata": {
        "id": "UrTizmYWNfQP"
      },
      "outputs": [],
      "source": [
        "def get_type_from_cat(CATEGORY):\n",
        "  for i in result:\n",
        "    if CATEGORY in result[i]:\n",
        "      return i"
      ]
    },
    {
      "cell_type": "code",
      "execution_count": null,
      "metadata": {
        "colab": {
          "base_uri": "https://localhost:8080/"
        },
        "id": "db_N8lTQQiOR",
        "outputId": "ae93ed0a-7cb2-467d-8139-445c2afc59c7"
      },
      "outputs": [
        {
          "data": {
            "text/plain": [
              "599"
            ]
          },
          "execution_count": 11,
          "metadata": {},
          "output_type": "execute_result"
        }
      ],
      "source": [
        "names=[]\n",
        "for i in poi['CATEGORY100'].values.tolist():\n",
        "  for j in eval(i):\n",
        "    if j not in names:\n",
        "      names.append(j)\n",
        "len(names)"
      ]
    },
    {
      "cell_type": "code",
      "execution_count": null,
      "metadata": {
        "id": "p_LzYN2mQkUl"
      },
      "outputs": [],
      "source": [
        "data={}\n",
        "data1={}\n",
        "for i in names:\n",
        "  data[i]=get_type_from_cat(i)\n",
        "  data1[i]=get_subtype_from_cat(i)"
      ]
    },
    {
      "cell_type": "code",
      "execution_count": null,
      "metadata": {
        "id": "8dYyFlYCOdIG"
      },
      "outputs": [],
      "source": [
        "def get_subtype(X):\n",
        "  res=[]\n",
        "  # if type(X)=='str':\n",
        "  for i in eval(X):\n",
        "    # print(i)\n",
        "    res.append(data1[i])\n",
        "  # else:\n",
        "  #   for i in X:\n",
        "  #     res.append(data1(i))\n",
        "  return res"
      ]
    },
    {
      "cell_type": "code",
      "execution_count": null,
      "metadata": {
        "id": "1-eSbJRJOaAP"
      },
      "outputs": [],
      "source": [
        "poi['SUB100'] = poi.apply(lambda x: get_subtype(x['CATEGORY100']), axis=1)"
      ]
    },
    {
      "cell_type": "code",
      "execution_count": null,
      "metadata": {
        "id": "gpmmm0zwPGhu"
      },
      "outputs": [],
      "source": [
        "def get_type(X):\n",
        "  res=[]\n",
        "  for i in eval(X):\n",
        "      res.append(data[i])\n",
        "  return res"
      ]
    },
    {
      "cell_type": "code",
      "execution_count": null,
      "metadata": {
        "id": "KOgDDRHQPQSB"
      },
      "outputs": [],
      "source": [
        "poi['Type100'] = poi.apply(lambda x: get_type(x['CATEGORY100']), axis=1)"
      ]
    },
    {
      "cell_type": "code",
      "execution_count": null,
      "metadata": {
        "id": "dkpuKM0NPVlp"
      },
      "outputs": [],
      "source": [
        "poi.to_csv('/content/drive/MyDrive/language0905.csv',encoding='utf_8_sig',index=None)"
      ]
    },
    {
      "cell_type": "code",
      "execution_count": null,
      "metadata": {
        "colab": {
          "base_uri": "https://localhost:8080/",
          "height": 1000
        },
        "id": "94yJ_nReSHh_",
        "outputId": "65c625e9-75d9-4081-afcc-94e428cc6b22"
      },
      "outputs": [
        {
          "data": {
            "text/html": [
              "<div>\n",
              "<style scoped>\n",
              "    .dataframe tbody tr th:only-of-type {\n",
              "        vertical-align: middle;\n",
              "    }\n",
              "\n",
              "    .dataframe tbody tr th {\n",
              "        vertical-align: top;\n",
              "    }\n",
              "\n",
              "    .dataframe thead th {\n",
              "        text-align: right;\n",
              "    }\n",
              "</style>\n",
              "<table border=\"1\" class=\"dataframe\">\n",
              "  <thead>\n",
              "    <tr style=\"text-align: right;\">\n",
              "      <th></th>\n",
              "      <th>id</th>\n",
              "      <th>description</th>\n",
              "      <th>tags</th>\n",
              "      <th>lat_gcj</th>\n",
              "      <th>lon_gcj</th>\n",
              "      <th>lat_wgs</th>\n",
              "      <th>lon_wgs</th>\n",
              "      <th>pov_exp</th>\n",
              "      <th>heading</th>\n",
              "      <th>POI</th>\n",
              "      <th>POI32</th>\n",
              "      <th>POI64</th>\n",
              "      <th>CATEGORY</th>\n",
              "      <th>CATEGORY50</th>\n",
              "      <th>CATEGORY100</th>\n",
              "      <th>language2</th>\n",
              "      <th>SUB100</th>\n",
              "      <th>Type100</th>\n",
              "    </tr>\n",
              "  </thead>\n",
              "  <tbody>\n",
              "    <tr>\n",
              "      <th>0</th>\n",
              "      <td>10141003150306134427600</td>\n",
              "      <td>Ｓ１１３</td>\n",
              "      <td>GENERAL</td>\n",
              "      <td>30.458431</td>\n",
              "      <td>114.307388</td>\n",
              "      <td>30.460880</td>\n",
              "      <td>114.301952</td>\n",
              "      <td>2</td>\n",
              "      <td>153</td>\n",
              "      <td>[  4154 395493 208493  19057 395492 216694 332...</td>\n",
              "      <td>[  4154 395493 208493  19057 395492 216694 332...</td>\n",
              "      <td>[  4154 395493 208493  19057 395492 216694 332...</td>\n",
              "      <td>['公交车站相关', '美容美发店', '快餐厅', '工厂', '维修站点', '中餐厅'...</td>\n",
              "      <td>['公交车站相关', '美容美发店', '快餐厅', '工厂', '维修站点', '中餐厅'...</td>\n",
              "      <td>['公交车站相关', '美容美发店', '快餐厅', '工厂', '维修站点', '中餐厅'...</td>\n",
              "      <td>Tree Plant House Window Car Land Street Billbo...</td>\n",
              "      <td>['公交车站', '美容美发店', '快餐厅', '工厂', '维修站点', '中餐厅', ...</td>\n",
              "      <td>['交通设施服务', '生活服务', '餐饮服务', '公司企业', '生活服务', '餐饮...</td>\n",
              "    </tr>\n",
              "    <tr>\n",
              "      <th>1</th>\n",
              "      <td>10141003150306134525400</td>\n",
              "      <td>Ｓ１１３</td>\n",
              "      <td>GENERAL</td>\n",
              "      <td>30.461331</td>\n",
              "      <td>114.306847</td>\n",
              "      <td>30.463780</td>\n",
              "      <td>114.301411</td>\n",
              "      <td>2</td>\n",
              "      <td>16</td>\n",
              "      <td>[216628 221539 218523 395495  32257 127973  32...</td>\n",
              "      <td>[216628 221539 218523 395495  32257 127973  32...</td>\n",
              "      <td>[216628 221539 218523 395495  32257 127973  32...</td>\n",
              "      <td>['餐饮相关', '中餐厅', '餐饮相关', '物流速递', '其它农林牧渔基地', '汽...</td>\n",
              "      <td>['餐饮相关', '中餐厅', '餐饮相关', '物流速递', '其它农林牧渔基地', '汽...</td>\n",
              "      <td>['餐饮相关', '中餐厅', '餐饮相关', '物流速递', '其它农林牧渔基地', '汽...</td>\n",
              "      <td>Tree House Plant Window Footwear Land Human Wh...</td>\n",
              "      <td>['餐饮相关场所', '中餐厅', '餐饮相关场所', '物流速递', '农林牧渔基地', ...</td>\n",
              "      <td>['餐饮服务', '餐饮服务', '餐饮服务', '生活服务', '公司企业', '汽车维修...</td>\n",
              "    </tr>\n",
              "    <tr>\n",
              "      <th>2</th>\n",
              "      <td>10141003150306134608900</td>\n",
              "      <td>Ｓ１１３</td>\n",
              "      <td>GENERAL</td>\n",
              "      <td>30.463268</td>\n",
              "      <td>114.308234</td>\n",
              "      <td>30.465714</td>\n",
              "      <td>114.302797</td>\n",
              "      <td>2</td>\n",
              "      <td>228</td>\n",
              "      <td>[342477  32463  32451  32219  32015 446011 216...</td>\n",
              "      <td>[342477  32463  32451  32219  32015 446011 216...</td>\n",
              "      <td>[342477  32463  32451  32219  32015 446011 216...</td>\n",
              "      <td>['政府及社会团体相关', '公司', '公司', '机械电子', '公司', '科教文化场...</td>\n",
              "      <td>['政府及社会团体相关', '公司', '公司', '机械电子', '公司', '科教文化场...</td>\n",
              "      <td>['政府及社会团体相关', '公司', '公司', '机械电子', '公司', '科教文化场...</td>\n",
              "      <td>Tree Window House Plant Car Building Palm Whee...</td>\n",
              "      <td>['政府及社会团体相关', '公司', '公司', '公司', '公司', '科教文化场所'...</td>\n",
              "      <td>['政府机构及社会团体', '公司企业', '公司企业', '公司企业', '公司企业', ...</td>\n",
              "    </tr>\n",
              "    <tr>\n",
              "      <th>3</th>\n",
              "      <td>10141003150306134621500</td>\n",
              "      <td>Ｓ１１３</td>\n",
              "      <td>GENERAL</td>\n",
              "      <td>30.463926</td>\n",
              "      <td>114.308983</td>\n",
              "      <td>30.466371</td>\n",
              "      <td>114.303544</td>\n",
              "      <td>2</td>\n",
              "      <td>225</td>\n",
              "      <td>[ 32219  32015 342477  32463 446011 120814 307...</td>\n",
              "      <td>[ 32219  32015 342477  32463 446011 120814 307...</td>\n",
              "      <td>[ 32219  32015 342477  32463 446011 120814 307...</td>\n",
              "      <td>['机械电子', '公司', '政府及社会团体相关', '公司', '科教文化场所', '政...</td>\n",
              "      <td>['机械电子', '公司', '政府及社会团体相关', '公司', '科教文化场所', '政...</td>\n",
              "      <td>['机械电子', '公司', '政府及社会团体相关', '公司', '科教文化场所', '政...</td>\n",
              "      <td>Tree Window House Building Car Train Plant Whe...</td>\n",
              "      <td>['公司', '公司', '政府及社会团体相关', '公司', '科教文化场所', '政府及...</td>\n",
              "      <td>['公司企业', '公司企业', '政府机构及社会团体', '公司企业', '科教文化服务'...</td>\n",
              "    </tr>\n",
              "    <tr>\n",
              "      <th>4</th>\n",
              "      <td>10141003150306134625100</td>\n",
              "      <td>Ｓ１１３</td>\n",
              "      <td>GENERAL</td>\n",
              "      <td>30.464176</td>\n",
              "      <td>114.309251</td>\n",
              "      <td>30.466621</td>\n",
              "      <td>114.303812</td>\n",
              "      <td>2</td>\n",
              "      <td>39</td>\n",
              "      <td>[ 32219  32015 446011 342477  32463 120814 307...</td>\n",
              "      <td>[ 32219  32015 446011 342477  32463 120814 307...</td>\n",
              "      <td>[ 32219  32015 446011 342477  32463 120814 307...</td>\n",
              "      <td>['机械电子', '公司', '科教文化场所', '政府及社会团体相关', '公司', '政...</td>\n",
              "      <td>['机械电子', '公司', '科教文化场所', '政府及社会团体相关', '公司', '政...</td>\n",
              "      <td>['机械电子', '公司', '科教文化场所', '政府及社会团体相关', '公司', '政...</td>\n",
              "      <td>Tree Window House Plant Car Wheel</td>\n",
              "      <td>['公司', '公司', '科教文化场所', '政府及社会团体相关', '公司', '政府及...</td>\n",
              "      <td>['公司企业', '公司企业', '科教文化服务', '政府机构及社会团体', '公司企业'...</td>\n",
              "    </tr>\n",
              "  </tbody>\n",
              "</table>\n",
              "</div>"
            ],
            "text/plain": [
              "                        id  ...                                            Type100\n",
              "0  10141003150306134427600  ...  ['交通设施服务', '生活服务', '餐饮服务', '公司企业', '生活服务', '餐饮...\n",
              "1  10141003150306134525400  ...  ['餐饮服务', '餐饮服务', '餐饮服务', '生活服务', '公司企业', '汽车维修...\n",
              "2  10141003150306134608900  ...  ['政府机构及社会团体', '公司企业', '公司企业', '公司企业', '公司企业', ...\n",
              "3  10141003150306134621500  ...  ['公司企业', '公司企业', '政府机构及社会团体', '公司企业', '科教文化服务'...\n",
              "4  10141003150306134625100  ...  ['公司企业', '公司企业', '科教文化服务', '政府机构及社会团体', '公司企业'...\n",
              "\n",
              "[5 rows x 18 columns]"
            ]
          },
          "execution_count": 16,
          "metadata": {},
          "output_type": "execute_result"
        }
      ],
      "source": [
        "import pandas as pd\n",
        "poi=pd.read_csv('/content/drive/MyDrive/language0905.csv',encoding='utf_8_sig')\n",
        "poi.head()"
      ]
    },
    {
      "cell_type": "code",
      "execution_count": null,
      "metadata": {
        "id": "NwB_S9CSg8al"
      },
      "outputs": [],
      "source": [
        "def get_language(test):\n",
        "  res=[]\n",
        "  data = eval(test)\n",
        "  c = Counter(data)\n",
        "  for i in c.most_common(10):\n",
        "    res.append(i[0])\n",
        "  return ' '.join(res).strip()"
      ]
    },
    {
      "cell_type": "code",
      "execution_count": null,
      "metadata": {
        "id": "gAwFIiH_ftJ4"
      },
      "outputs": [],
      "source": [
        "# poi['language']=['CATEGORY']\n",
        "poi['language'] = poi.apply(lambda x: get_language(x['CATEGORY100']), axis=1)"
      ]
    },
    {
      "cell_type": "code",
      "execution_count": null,
      "metadata": {
        "colab": {
          "base_uri": "https://localhost:8080/"
        },
        "id": "bJDO-wMDfeLy",
        "outputId": "68ec3c57-983c-4115-c80c-db451b98aea3"
      },
      "outputs": [
        {
          "data": {
            "text/plain": [
              "(20790, 19)"
            ]
          },
          "execution_count": 26,
          "metadata": {},
          "output_type": "execute_result"
        }
      ],
      "source": [
        "poi.shape"
      ]
    },
    {
      "cell_type": "code",
      "execution_count": null,
      "metadata": {
        "id": "CdG-nb6zfsmv"
      },
      "outputs": [],
      "source": [
        "from collections import Counter\n",
        "def get_type(x):\n",
        "  results=[]\n",
        "  res=eval(x)\n",
        "  # data = ['a','2',2,4,5,'2','b',4,7,'a',5,'d','a','z']\n",
        "  c = Counter(res)\n",
        "  for i in c.most_common(10):\n",
        "    results.append(i[0])\n",
        "  return ' '.join(results).strip()"
      ]
    },
    {
      "cell_type": "code",
      "execution_count": null,
      "metadata": {
        "id": "pAWWHrWPjW62"
      },
      "outputs": [],
      "source": [
        "poi['langtype'] = poi.apply(lambda x: get_type(x['Type100']), axis=1)"
      ]
    },
    {
      "cell_type": "code",
      "execution_count": null,
      "metadata": {
        "id": "Mj1bVczrjKYq"
      },
      "outputs": [],
      "source": [
        "from collections import Counter\n",
        "def get_sub(x):\n",
        "  results=[]\n",
        "  res=eval(x)\n",
        "  c = Counter(res)\n",
        "  for i in c.most_common(10):\n",
        "    results.append(i[0])\n",
        "  return ' '.join(results).strip()"
      ]
    },
    {
      "cell_type": "code",
      "execution_count": null,
      "metadata": {
        "id": "U4o7R_gVjx81"
      },
      "outputs": [],
      "source": [
        "poi['langsub'] = poi.apply(lambda x: get_sub(x['SUB100']), axis=1)"
      ]
    },
    {
      "cell_type": "code",
      "execution_count": null,
      "metadata": {
        "colab": {
          "base_uri": "https://localhost:8080/"
        },
        "id": "2NHufRx8id4K",
        "outputId": "10f01e18-d68e-48be-ada1-684859bc468d"
      },
      "outputs": [
        {
          "data": {
            "text/plain": [
              "Index(['id', 'description', 'tags', 'lat_gcj', 'lon_gcj', 'lat_wgs', 'lon_wgs',\n",
              "       'pov_exp', 'heading', 'POI', 'POI32', 'POI64', 'CATEGORY', 'CATEGORY50',\n",
              "       'CATEGORY100', 'language2', 'SUB100', 'Type100', 'language', 'langtype',\n",
              "       'langsub'],\n",
              "      dtype='object')"
            ]
          },
          "execution_count": 23,
          "metadata": {},
          "output_type": "execute_result"
        }
      ],
      "source": [
        "poi.columns"
      ]
    },
    {
      "cell_type": "code",
      "execution_count": null,
      "metadata": {
        "colab": {
          "base_uri": "https://localhost:8080/",
          "height": 1000
        },
        "id": "MyzcNlunfO-F",
        "outputId": "25329225-b70d-4107-dca3-392a40cd4b98"
      },
      "outputs": [
        {
          "data": {
            "text/html": [
              "<div>\n",
              "<style scoped>\n",
              "    .dataframe tbody tr th:only-of-type {\n",
              "        vertical-align: middle;\n",
              "    }\n",
              "\n",
              "    .dataframe tbody tr th {\n",
              "        vertical-align: top;\n",
              "    }\n",
              "\n",
              "    .dataframe thead th {\n",
              "        text-align: right;\n",
              "    }\n",
              "</style>\n",
              "<table border=\"1\" class=\"dataframe\">\n",
              "  <thead>\n",
              "    <tr style=\"text-align: right;\">\n",
              "      <th></th>\n",
              "      <th>id</th>\n",
              "      <th>description</th>\n",
              "      <th>tags</th>\n",
              "      <th>lat_gcj</th>\n",
              "      <th>lon_gcj</th>\n",
              "      <th>lat_wgs</th>\n",
              "      <th>lon_wgs</th>\n",
              "      <th>pov_exp</th>\n",
              "      <th>heading</th>\n",
              "      <th>POI</th>\n",
              "      <th>POI32</th>\n",
              "      <th>POI64</th>\n",
              "      <th>CATEGORY</th>\n",
              "      <th>CATEGORY50</th>\n",
              "      <th>CATEGORY100</th>\n",
              "      <th>language2</th>\n",
              "      <th>SUB100</th>\n",
              "      <th>Type100</th>\n",
              "      <th>language</th>\n",
              "      <th>langtype</th>\n",
              "      <th>langsub</th>\n",
              "    </tr>\n",
              "  </thead>\n",
              "  <tbody>\n",
              "    <tr>\n",
              "      <th>0</th>\n",
              "      <td>10141003150306134427600</td>\n",
              "      <td>Ｓ１１３</td>\n",
              "      <td>GENERAL</td>\n",
              "      <td>30.458431</td>\n",
              "      <td>114.307388</td>\n",
              "      <td>30.460880</td>\n",
              "      <td>114.301952</td>\n",
              "      <td>2</td>\n",
              "      <td>153</td>\n",
              "      <td>[  4154 395493 208493  19057 395492 216694 332...</td>\n",
              "      <td>[  4154 395493 208493  19057 395492 216694 332...</td>\n",
              "      <td>[  4154 395493 208493  19057 395492 216694 332...</td>\n",
              "      <td>['公交车站相关', '美容美发店', '快餐厅', '工厂', '维修站点', '中餐厅'...</td>\n",
              "      <td>['公交车站相关', '美容美发店', '快餐厅', '工厂', '维修站点', '中餐厅'...</td>\n",
              "      <td>['公交车站相关', '美容美发店', '快餐厅', '工厂', '维修站点', '中餐厅'...</td>\n",
              "      <td>Tree Plant House Window Car Land Street Billbo...</td>\n",
              "      <td>['公交车站', '美容美发店', '快餐厅', '工厂', '维修站点', '中餐厅', ...</td>\n",
              "      <td>['交通设施服务', '生活服务', '餐饮服务', '公司企业', '生活服务', '餐饮...</td>\n",
              "      <td>物流速递 住宅小区 美容美发店 公司 诊所 乡镇以下级政府及事业单位 中餐厅 汽车维修 路口...</td>\n",
              "      <td>生活服务 商务住宅 公司企业 政府机构及社会团体 餐饮服务 医疗保健服务 科教文化服务 汽车...</td>\n",
              "      <td>物流速递 住宅区 美容美发店 公司 中餐厅 诊所 政府机关 福特特约维修 临街院门 交通地名</td>\n",
              "    </tr>\n",
              "    <tr>\n",
              "      <th>1</th>\n",
              "      <td>10141003150306134525400</td>\n",
              "      <td>Ｓ１１３</td>\n",
              "      <td>GENERAL</td>\n",
              "      <td>30.461331</td>\n",
              "      <td>114.306847</td>\n",
              "      <td>30.463780</td>\n",
              "      <td>114.301411</td>\n",
              "      <td>2</td>\n",
              "      <td>16</td>\n",
              "      <td>[216628 221539 218523 395495  32257 127973  32...</td>\n",
              "      <td>[216628 221539 218523 395495  32257 127973  32...</td>\n",
              "      <td>[216628 221539 218523 395495  32257 127973  32...</td>\n",
              "      <td>['餐饮相关', '中餐厅', '餐饮相关', '物流速递', '其它农林牧渔基地', '汽...</td>\n",
              "      <td>['餐饮相关', '中餐厅', '餐饮相关', '物流速递', '其它农林牧渔基地', '汽...</td>\n",
              "      <td>['餐饮相关', '中餐厅', '餐饮相关', '物流速递', '其它农林牧渔基地', '汽...</td>\n",
              "      <td>Tree House Plant Window Footwear Land Human Wh...</td>\n",
              "      <td>['餐饮相关场所', '中餐厅', '餐饮相关场所', '物流速递', '农林牧渔基地', ...</td>\n",
              "      <td>['餐饮服务', '餐饮服务', '餐饮服务', '生活服务', '公司企业', '汽车维修...</td>\n",
              "      <td>住宅小区 美容美发店 中餐厅 公司 诊所 汽车维修 生活服务场所 乡镇以下级政府及事业单位 ...</td>\n",
              "      <td>生活服务 商务住宅 餐饮服务 公司企业 政府机构及社会团体 医疗保健服务 科教文化服务 汽车...</td>\n",
              "      <td>住宅区 中餐厅 美容美发店 公司 诊所 临街院门 福特特约维修 交通地名 生活服务场所 政府机关</td>\n",
              "    </tr>\n",
              "    <tr>\n",
              "      <th>2</th>\n",
              "      <td>10141003150306134608900</td>\n",
              "      <td>Ｓ１１３</td>\n",
              "      <td>GENERAL</td>\n",
              "      <td>30.463268</td>\n",
              "      <td>114.308234</td>\n",
              "      <td>30.465714</td>\n",
              "      <td>114.302797</td>\n",
              "      <td>2</td>\n",
              "      <td>228</td>\n",
              "      <td>[342477  32463  32451  32219  32015 446011 216...</td>\n",
              "      <td>[342477  32463  32451  32219  32015 446011 216...</td>\n",
              "      <td>[342477  32463  32451  32219  32015 446011 216...</td>\n",
              "      <td>['政府及社会团体相关', '公司', '公司', '机械电子', '公司', '科教文化场...</td>\n",
              "      <td>['政府及社会团体相关', '公司', '公司', '机械电子', '公司', '科教文化场...</td>\n",
              "      <td>['政府及社会团体相关', '公司', '公司', '机械电子', '公司', '科教文化场...</td>\n",
              "      <td>Tree Window House Plant Car Building Palm Whee...</td>\n",
              "      <td>['政府及社会团体相关', '公司', '公司', '公司', '公司', '科教文化场所'...</td>\n",
              "      <td>['政府机构及社会团体', '公司企业', '公司企业', '公司企业', '公司企业', ...</td>\n",
              "      <td>中餐厅 美容美发店 生活服务场所 公司 餐饮相关 乡镇以下级政府及事业单位 培训机构 学校 ...</td>\n",
              "      <td>科教文化服务 餐饮服务 生活服务 公司企业 政府机构及社会团体 医疗保健服务 商务住宅 地名...</td>\n",
              "      <td>学校 中餐厅 美容美发店 生活服务场所 公司 餐饮相关场所 政府机关 培训机构 政府及社会团...</td>\n",
              "    </tr>\n",
              "    <tr>\n",
              "      <th>3</th>\n",
              "      <td>10141003150306134621500</td>\n",
              "      <td>Ｓ１１３</td>\n",
              "      <td>GENERAL</td>\n",
              "      <td>30.463926</td>\n",
              "      <td>114.308983</td>\n",
              "      <td>30.466371</td>\n",
              "      <td>114.303544</td>\n",
              "      <td>2</td>\n",
              "      <td>225</td>\n",
              "      <td>[ 32219  32015 342477  32463 446011 120814 307...</td>\n",
              "      <td>[ 32219  32015 342477  32463 446011 120814 307...</td>\n",
              "      <td>[ 32219  32015 342477  32463 446011 120814 307...</td>\n",
              "      <td>['机械电子', '公司', '政府及社会团体相关', '公司', '科教文化场所', '政...</td>\n",
              "      <td>['机械电子', '公司', '政府及社会团体相关', '公司', '科教文化场所', '政...</td>\n",
              "      <td>['机械电子', '公司', '政府及社会团体相关', '公司', '科教文化场所', '政...</td>\n",
              "      <td>Tree Window House Building Car Train Plant Whe...</td>\n",
              "      <td>['公司', '公司', '政府及社会团体相关', '公司', '科教文化场所', '政府及...</td>\n",
              "      <td>['公司企业', '公司企业', '政府机构及社会团体', '公司企业', '科教文化服务'...</td>\n",
              "      <td>中餐厅 学校 公司 政府及社会团体相关 餐饮相关 培训机构 生活服务场所 美容美发店 住宅小...</td>\n",
              "      <td>科教文化服务 餐饮服务 生活服务 公司企业 政府机构及社会团体 医疗保健服务 住宿服务 商务...</td>\n",
              "      <td>中餐厅 学校 公司 政府及社会团体相关 餐饮相关场所 培训机构 生活服务场所 美容美发店 住...</td>\n",
              "    </tr>\n",
              "    <tr>\n",
              "      <th>4</th>\n",
              "      <td>10141003150306134625100</td>\n",
              "      <td>Ｓ１１３</td>\n",
              "      <td>GENERAL</td>\n",
              "      <td>30.464176</td>\n",
              "      <td>114.309251</td>\n",
              "      <td>30.466621</td>\n",
              "      <td>114.303812</td>\n",
              "      <td>2</td>\n",
              "      <td>39</td>\n",
              "      <td>[ 32219  32015 446011 342477  32463 120814 307...</td>\n",
              "      <td>[ 32219  32015 446011 342477  32463 120814 307...</td>\n",
              "      <td>[ 32219  32015 446011 342477  32463 120814 307...</td>\n",
              "      <td>['机械电子', '公司', '科教文化场所', '政府及社会团体相关', '公司', '政...</td>\n",
              "      <td>['机械电子', '公司', '科教文化场所', '政府及社会团体相关', '公司', '政...</td>\n",
              "      <td>['机械电子', '公司', '科教文化场所', '政府及社会团体相关', '公司', '政...</td>\n",
              "      <td>Tree Window House Plant Car Wheel</td>\n",
              "      <td>['公司', '公司', '科教文化场所', '政府及社会团体相关', '公司', '政府及...</td>\n",
              "      <td>['公司企业', '公司企业', '科教文化服务', '政府机构及社会团体', '公司企业'...</td>\n",
              "      <td>中餐厅 学校 公司 政府及社会团体相关 餐饮相关 旅馆招待所 培训机构 生活服务场所 住宅小...</td>\n",
              "      <td>科教文化服务 餐饮服务 生活服务 公司企业 政府机构及社会团体 住宿服务 医疗保健服务 商务...</td>\n",
              "      <td>中餐厅 学校 公司 政府及社会团体相关 餐饮相关场所 旅馆招待所 培训机构 生活服务场所 住...</td>\n",
              "    </tr>\n",
              "  </tbody>\n",
              "</table>\n",
              "</div>"
            ],
            "text/plain": [
              "                        id  ...                                            langsub\n",
              "0  10141003150306134427600  ...     物流速递 住宅区 美容美发店 公司 中餐厅 诊所 政府机关 福特特约维修 临街院门 交通地名\n",
              "1  10141003150306134525400  ...   住宅区 中餐厅 美容美发店 公司 诊所 临街院门 福特特约维修 交通地名 生活服务场所 政府机关\n",
              "2  10141003150306134608900  ...  学校 中餐厅 美容美发店 生活服务场所 公司 餐饮相关场所 政府机关 培训机构 政府及社会团...\n",
              "3  10141003150306134621500  ...  中餐厅 学校 公司 政府及社会团体相关 餐饮相关场所 培训机构 生活服务场所 美容美发店 住...\n",
              "4  10141003150306134625100  ...  中餐厅 学校 公司 政府及社会团体相关 餐饮相关场所 旅馆招待所 培训机构 生活服务场所 住...\n",
              "\n",
              "[5 rows x 21 columns]"
            ]
          },
          "execution_count": 24,
          "metadata": {},
          "output_type": "execute_result"
        }
      ],
      "source": [
        "poi.head()"
      ]
    },
    {
      "cell_type": "code",
      "execution_count": null,
      "metadata": {
        "id": "0qEnMYwT9zmR"
      },
      "outputs": [],
      "source": [
        "poi.to_csv('/content/drive/MyDrive/language0907.csv',encoding='utf_8_sig',index=None)"
      ]
    },
    {
      "cell_type": "code",
      "execution_count": null,
      "metadata": {
        "colab": {
          "base_uri": "https://localhost:8080/",
          "height": 1000
        },
        "id": "objslU-d93tp",
        "outputId": "747f4d6f-135c-43b5-e04f-c6b5e63c6bd8"
      },
      "outputs": [
        {
          "data": {
            "text/html": [
              "<div>\n",
              "<style scoped>\n",
              "    .dataframe tbody tr th:only-of-type {\n",
              "        vertical-align: middle;\n",
              "    }\n",
              "\n",
              "    .dataframe tbody tr th {\n",
              "        vertical-align: top;\n",
              "    }\n",
              "\n",
              "    .dataframe thead th {\n",
              "        text-align: right;\n",
              "    }\n",
              "</style>\n",
              "<table border=\"1\" class=\"dataframe\">\n",
              "  <thead>\n",
              "    <tr style=\"text-align: right;\">\n",
              "      <th></th>\n",
              "      <th>id</th>\n",
              "      <th>description</th>\n",
              "      <th>tags</th>\n",
              "      <th>lat_gcj</th>\n",
              "      <th>lon_gcj</th>\n",
              "      <th>lat_wgs</th>\n",
              "      <th>lon_wgs</th>\n",
              "      <th>pov_exp</th>\n",
              "      <th>heading</th>\n",
              "      <th>POI</th>\n",
              "      <th>POI32</th>\n",
              "      <th>POI64</th>\n",
              "      <th>CATEGORY</th>\n",
              "      <th>CATEGORY50</th>\n",
              "      <th>CATEGORY100</th>\n",
              "      <th>language2</th>\n",
              "      <th>SUB100</th>\n",
              "      <th>Type100</th>\n",
              "      <th>language</th>\n",
              "      <th>langtype</th>\n",
              "      <th>langsub</th>\n",
              "    </tr>\n",
              "  </thead>\n",
              "  <tbody>\n",
              "    <tr>\n",
              "      <th>0</th>\n",
              "      <td>10141003150306134427600</td>\n",
              "      <td>Ｓ１１３</td>\n",
              "      <td>GENERAL</td>\n",
              "      <td>30.458431</td>\n",
              "      <td>114.307388</td>\n",
              "      <td>30.460880</td>\n",
              "      <td>114.301952</td>\n",
              "      <td>2</td>\n",
              "      <td>153</td>\n",
              "      <td>[  4154 395493 208493  19057 395492 216694 332...</td>\n",
              "      <td>[  4154 395493 208493  19057 395492 216694 332...</td>\n",
              "      <td>[  4154 395493 208493  19057 395492 216694 332...</td>\n",
              "      <td>['公交车站相关', '美容美发店', '快餐厅', '工厂', '维修站点', '中餐厅'...</td>\n",
              "      <td>['公交车站相关', '美容美发店', '快餐厅', '工厂', '维修站点', '中餐厅'...</td>\n",
              "      <td>['公交车站相关', '美容美发店', '快餐厅', '工厂', '维修站点', '中餐厅'...</td>\n",
              "      <td>Tree Plant House Window Car Land Street Billbo...</td>\n",
              "      <td>['公交车站', '美容美发店', '快餐厅', '工厂', '维修站点', '中餐厅', ...</td>\n",
              "      <td>['交通设施服务', '生活服务', '餐饮服务', '公司企业', '生活服务', '餐饮...</td>\n",
              "      <td>物流速递 住宅小区 美容美发店 公司 诊所 乡镇以下级政府及事业单位 中餐厅 汽车维修 路口...</td>\n",
              "      <td>生活服务 商务住宅 公司企业 政府机构及社会团体 餐饮服务 医疗保健服务 科教文化服务 汽车...</td>\n",
              "      <td>物流速递 住宅区 美容美发店 公司 中餐厅 诊所 政府机关 福特特约维修 临街院门 交通地名</td>\n",
              "    </tr>\n",
              "    <tr>\n",
              "      <th>1</th>\n",
              "      <td>10141003150306134525400</td>\n",
              "      <td>Ｓ１１３</td>\n",
              "      <td>GENERAL</td>\n",
              "      <td>30.461331</td>\n",
              "      <td>114.306847</td>\n",
              "      <td>30.463780</td>\n",
              "      <td>114.301411</td>\n",
              "      <td>2</td>\n",
              "      <td>16</td>\n",
              "      <td>[216628 221539 218523 395495  32257 127973  32...</td>\n",
              "      <td>[216628 221539 218523 395495  32257 127973  32...</td>\n",
              "      <td>[216628 221539 218523 395495  32257 127973  32...</td>\n",
              "      <td>['餐饮相关', '中餐厅', '餐饮相关', '物流速递', '其它农林牧渔基地', '汽...</td>\n",
              "      <td>['餐饮相关', '中餐厅', '餐饮相关', '物流速递', '其它农林牧渔基地', '汽...</td>\n",
              "      <td>['餐饮相关', '中餐厅', '餐饮相关', '物流速递', '其它农林牧渔基地', '汽...</td>\n",
              "      <td>Tree House Plant Window Footwear Land Human Wh...</td>\n",
              "      <td>['餐饮相关场所', '中餐厅', '餐饮相关场所', '物流速递', '农林牧渔基地', ...</td>\n",
              "      <td>['餐饮服务', '餐饮服务', '餐饮服务', '生活服务', '公司企业', '汽车维修...</td>\n",
              "      <td>住宅小区 美容美发店 中餐厅 公司 诊所 汽车维修 生活服务场所 乡镇以下级政府及事业单位 ...</td>\n",
              "      <td>生活服务 商务住宅 餐饮服务 公司企业 政府机构及社会团体 医疗保健服务 科教文化服务 汽车...</td>\n",
              "      <td>住宅区 中餐厅 美容美发店 公司 诊所 临街院门 福特特约维修 交通地名 生活服务场所 政府机关</td>\n",
              "    </tr>\n",
              "    <tr>\n",
              "      <th>2</th>\n",
              "      <td>10141003150306134608900</td>\n",
              "      <td>Ｓ１１３</td>\n",
              "      <td>GENERAL</td>\n",
              "      <td>30.463268</td>\n",
              "      <td>114.308234</td>\n",
              "      <td>30.465714</td>\n",
              "      <td>114.302797</td>\n",
              "      <td>2</td>\n",
              "      <td>228</td>\n",
              "      <td>[342477  32463  32451  32219  32015 446011 216...</td>\n",
              "      <td>[342477  32463  32451  32219  32015 446011 216...</td>\n",
              "      <td>[342477  32463  32451  32219  32015 446011 216...</td>\n",
              "      <td>['政府及社会团体相关', '公司', '公司', '机械电子', '公司', '科教文化场...</td>\n",
              "      <td>['政府及社会团体相关', '公司', '公司', '机械电子', '公司', '科教文化场...</td>\n",
              "      <td>['政府及社会团体相关', '公司', '公司', '机械电子', '公司', '科教文化场...</td>\n",
              "      <td>Tree Window House Plant Car Building Palm Whee...</td>\n",
              "      <td>['政府及社会团体相关', '公司', '公司', '公司', '公司', '科教文化场所'...</td>\n",
              "      <td>['政府机构及社会团体', '公司企业', '公司企业', '公司企业', '公司企业', ...</td>\n",
              "      <td>中餐厅 美容美发店 生活服务场所 公司 餐饮相关 乡镇以下级政府及事业单位 培训机构 学校 ...</td>\n",
              "      <td>科教文化服务 餐饮服务 生活服务 公司企业 政府机构及社会团体 医疗保健服务 商务住宅 地名...</td>\n",
              "      <td>学校 中餐厅 美容美发店 生活服务场所 公司 餐饮相关场所 政府机关 培训机构 政府及社会团...</td>\n",
              "    </tr>\n",
              "    <tr>\n",
              "      <th>3</th>\n",
              "      <td>10141003150306134621500</td>\n",
              "      <td>Ｓ１１３</td>\n",
              "      <td>GENERAL</td>\n",
              "      <td>30.463926</td>\n",
              "      <td>114.308983</td>\n",
              "      <td>30.466371</td>\n",
              "      <td>114.303544</td>\n",
              "      <td>2</td>\n",
              "      <td>225</td>\n",
              "      <td>[ 32219  32015 342477  32463 446011 120814 307...</td>\n",
              "      <td>[ 32219  32015 342477  32463 446011 120814 307...</td>\n",
              "      <td>[ 32219  32015 342477  32463 446011 120814 307...</td>\n",
              "      <td>['机械电子', '公司', '政府及社会团体相关', '公司', '科教文化场所', '政...</td>\n",
              "      <td>['机械电子', '公司', '政府及社会团体相关', '公司', '科教文化场所', '政...</td>\n",
              "      <td>['机械电子', '公司', '政府及社会团体相关', '公司', '科教文化场所', '政...</td>\n",
              "      <td>Tree Window House Building Car Train Plant Whe...</td>\n",
              "      <td>['公司', '公司', '政府及社会团体相关', '公司', '科教文化场所', '政府及...</td>\n",
              "      <td>['公司企业', '公司企业', '政府机构及社会团体', '公司企业', '科教文化服务'...</td>\n",
              "      <td>中餐厅 学校 公司 政府及社会团体相关 餐饮相关 培训机构 生活服务场所 美容美发店 住宅小...</td>\n",
              "      <td>科教文化服务 餐饮服务 生活服务 公司企业 政府机构及社会团体 医疗保健服务 住宿服务 商务...</td>\n",
              "      <td>中餐厅 学校 公司 政府及社会团体相关 餐饮相关场所 培训机构 生活服务场所 美容美发店 住...</td>\n",
              "    </tr>\n",
              "    <tr>\n",
              "      <th>4</th>\n",
              "      <td>10141003150306134625100</td>\n",
              "      <td>Ｓ１１３</td>\n",
              "      <td>GENERAL</td>\n",
              "      <td>30.464176</td>\n",
              "      <td>114.309251</td>\n",
              "      <td>30.466621</td>\n",
              "      <td>114.303812</td>\n",
              "      <td>2</td>\n",
              "      <td>39</td>\n",
              "      <td>[ 32219  32015 446011 342477  32463 120814 307...</td>\n",
              "      <td>[ 32219  32015 446011 342477  32463 120814 307...</td>\n",
              "      <td>[ 32219  32015 446011 342477  32463 120814 307...</td>\n",
              "      <td>['机械电子', '公司', '科教文化场所', '政府及社会团体相关', '公司', '政...</td>\n",
              "      <td>['机械电子', '公司', '科教文化场所', '政府及社会团体相关', '公司', '政...</td>\n",
              "      <td>['机械电子', '公司', '科教文化场所', '政府及社会团体相关', '公司', '政...</td>\n",
              "      <td>Tree Window House Plant Car Wheel</td>\n",
              "      <td>['公司', '公司', '科教文化场所', '政府及社会团体相关', '公司', '政府及...</td>\n",
              "      <td>['公司企业', '公司企业', '科教文化服务', '政府机构及社会团体', '公司企业'...</td>\n",
              "      <td>中餐厅 学校 公司 政府及社会团体相关 餐饮相关 旅馆招待所 培训机构 生活服务场所 住宅小...</td>\n",
              "      <td>科教文化服务 餐饮服务 生活服务 公司企业 政府机构及社会团体 住宿服务 医疗保健服务 商务...</td>\n",
              "      <td>中餐厅 学校 公司 政府及社会团体相关 餐饮相关场所 旅馆招待所 培训机构 生活服务场所 住...</td>\n",
              "    </tr>\n",
              "  </tbody>\n",
              "</table>\n",
              "</div>"
            ],
            "text/plain": [
              "                        id  ...                                            langsub\n",
              "0  10141003150306134427600  ...     物流速递 住宅区 美容美发店 公司 中餐厅 诊所 政府机关 福特特约维修 临街院门 交通地名\n",
              "1  10141003150306134525400  ...   住宅区 中餐厅 美容美发店 公司 诊所 临街院门 福特特约维修 交通地名 生活服务场所 政府机关\n",
              "2  10141003150306134608900  ...  学校 中餐厅 美容美发店 生活服务场所 公司 餐饮相关场所 政府机关 培训机构 政府及社会团...\n",
              "3  10141003150306134621500  ...  中餐厅 学校 公司 政府及社会团体相关 餐饮相关场所 培训机构 生活服务场所 美容美发店 住...\n",
              "4  10141003150306134625100  ...  中餐厅 学校 公司 政府及社会团体相关 餐饮相关场所 旅馆招待所 培训机构 生活服务场所 住...\n",
              "\n",
              "[5 rows x 21 columns]"
            ]
          },
          "execution_count": 4,
          "metadata": {},
          "output_type": "execute_result"
        }
      ],
      "source": [
        "import pandas as pd\n",
        "poi=pd.read_csv('/content/drive/MyDrive/language0907.csv',encoding='utf_8_sig')\n",
        "poi.head()"
      ]
    },
    {
      "cell_type": "markdown",
      "metadata": {
        "id": "rjrEmHv9g7Iz"
      },
      "source": [
        "#### Constructing training pairs"
      ]
    },
    {
      "cell_type": "code",
      "execution_count": null,
      "metadata": {
        "id": "rxUSudSPN5iF"
      },
      "outputs": [],
      "source": [
        "pairs=[]\n",
        "with open('poi-sv.txt','w+',encoding='utf-8') as f:\n",
        "  for index, row in poi.iterrows():\n",
        "      # print(index) # 输出每行的索引值\n",
        "      # tmp=eval(row['CATEGORY'])\n",
        "      # emp=[]\n",
        "      # for i in tmp:\n",
        "      #   emp.append(' '.join(i))\n",
        "      #   #lazy_pinyin(i)\n",
        "      # f.write(' '.join(emp))\n",
        "\n",
        "      f.write(row['language'])\n",
        "      f.write('\\t')\n",
        "      f.write(row['language2'])\n",
        "      f.write('\\n')\n",
        "      pairs.append(\n",
        "      [row['language'],row['language2']]\n",
        "      )"
      ]
    },
    {
      "cell_type": "markdown",
      "metadata": {
        "id": "Ip_MQcRXlb9b"
      },
      "source": [
        "\n",
        "Translation with a Sequence to Sequence Network and Attention\n"
      ]
    },
    {
      "cell_type": "code",
      "execution_count": null,
      "metadata": {
        "id": "bIy1czP8lb9d"
      },
      "outputs": [],
      "source": [
        "from __future__ import unicode_literals, print_function, division\n",
        "from io import open\n",
        "import unicodedata\n",
        "import string\n",
        "import re\n",
        "import random\n",
        "\n",
        "import torch\n",
        "import torch.nn as nn\n",
        "from torch import optim\n",
        "import torch.nn.functional as F\n",
        "\n",
        "device = torch.device(\"cuda\" if torch.cuda.is_available() else \"cpu\")"
      ]
    },
    {
      "cell_type": "markdown",
      "metadata": {
        "id": "AWJ_GhGglb9e"
      },
      "source": [
        "### Loading data files"
      ]
    },
    {
      "cell_type": "markdown",
      "metadata": {},
      "source": [
        "We'll need a unique index per word to use as the inputs and targets of\n",
        "the networks later. To keep track of all this we will use a helper class\n",
        "called ``Lang`` which has word → index (``word2index``) and index → word\n",
        "(``index2word``) dictionaries, as well as a count of each word\n",
        "``word2count`` which will be used to replace rare words later."
      ]
    },
    {
      "cell_type": "code",
      "execution_count": null,
      "metadata": {},
      "outputs": [],
      "source": [
        "To read the data file we will split the file into lines, and then split\n",
        "lines into pairs. "
      ]
    },
    {
      "cell_type": "code",
      "execution_count": null,
      "metadata": {
        "id": "2uP5tQvBlb9j"
      },
      "outputs": [],
      "source": [
        "SOS_token = 0\n",
        "EOS_token = 1\n",
        "\n",
        "class Lang:\n",
        "    def __init__(self, name):\n",
        "        self.name = name\n",
        "        self.word2index = {}\n",
        "        self.word2count = {}\n",
        "        self.index2word = {0: \"SOS\", 1: \"EOS\"}\n",
        "        self.n_words = 2  # Count SOS and EOS\n",
        "\n",
        "    def addSentence(self, sentence):\n",
        "        for word in sentence.split(' '):\n",
        "            self.addWord(word)\n",
        "\n",
        "    def addWord(self, word):\n",
        "        if word not in self.word2index:\n",
        "            self.word2index[word] = self.n_words\n",
        "            self.word2count[word] = 1\n",
        "            self.index2word[self.n_words] = word\n",
        "            self.n_words += 1\n",
        "        else:\n",
        "            self.word2count[word] += 1\n",
        "# Turn a Unicode string to plain ASCII\n",
        "# https://stackoverflow.com/a/518232/2809427\n",
        "# The files are all in Unicode, to simplify we will turn Unicode\n",
        "# characters to ASCII, make everything lowercase, and trim most\n",
        "# punctuation.\n",
        "def unicodeToAscii(s):\n",
        "    return ''.join(\n",
        "        c for c in unicodedata.normalize('NFD', s)\n",
        "        if unicodedata.category(c) != 'Mn'\n",
        "    )\n",
        "def normalizeString(s):\n",
        "    s = unicodeToAscii(s.lower().strip())\n",
        "    # s = re.sub(r\"([.!?])\", r\" \\1\", s)\n",
        "    # s = re.sub(r\"[^a-zA-Z.!?]+\", r\" \", s)\n",
        "    return s\n",
        "\n",
        "def readLangs(lang1, lang2, reverse=False):\n",
        "    print(\"Reading lines...\")\n",
        "\n",
        "    # Read the file and split into lines\n",
        "    lines = open('data/%s-%s.txt' % (lang1, lang2), encoding='utf-8').\\\n",
        "        read().strip().split('\\n')\n",
        "\n",
        "    # Split every line into pairs and normalize\n",
        "    pairs = [[normalizeString(s) for s in l.split('\\t')] for l in lines]\n",
        "\n",
        "    # Reverse pairs, make Lang instances\n",
        "    if reverse:\n",
        "        pairs = [list(reversed(p)) for p in pairs]\n",
        "        input_lang = Lang(lang2)\n",
        "        output_lang = Lang(lang1)\n",
        "    else:\n",
        "        input_lang = Lang(lang1)\n",
        "        output_lang = Lang(lang2)\n",
        "\n",
        "    return input_lang, output_lang, pairs"
      ]
    },
    {
      "cell_type": "markdown",
      "metadata": {
        "id": "z5W7e-pClb9j"
      },
      "source": [
        "Since there are a *lot* of example sentences and we want to train\n",
        "something quickly, we'll trim the data set to only relatively short and\n",
        "simple sentences. Here the maximum length is 10 words."
      ]
    },
    {
      "cell_type": "code",
      "execution_count": null,
      "metadata": {
        "id": "nkVqrvOVlb9k"
      },
      "outputs": [],
      "source": [
        "MAX_LENGTH =11\n",
        "def filterPair(p):\n",
        "    return len(p[0].split(' ')) < MAX_LENGTH and \\\n",
        "        len(p[1].split(' ')) < MAX_LENGTH #and \\\n",
        "\n",
        "def filterPairs(pairs):\n",
        "    return [pair for pair in pairs if filterPair(pair)]"
      ]
    },
    {
      "cell_type": "markdown",
      "metadata": {
        "id": "K74xSsR4lb9k"
      },
      "source": [
        "The full process for preparing the data is:\n",
        "\n",
        "-  Read text file and split into lines, split lines into pairs\n",
        "-  Normalize text, filter by length and content\n",
        "-  Make word lists from sentences in pairs\n",
        "\n",
        "\n"
      ]
    },
    {
      "cell_type": "code",
      "execution_count": null,
      "metadata": {
        "id": "fRnjTVWSlb9l"
      },
      "outputs": [],
      "source": [
        "def prepareData(lang1, lang2, reverse=False):\n",
        "    input_lang, output_lang, pairs = readLangs(lang1, lang2, reverse)\n",
        "    print(\"Read %s sentence pairs\" % len(pairs))\n",
        "    # pairs = filterPairs(pairs)\n",
        "    print(\"Trimmed to %s sentence pairs\" % len(pairs))\n",
        "    print(\"Counting words...\")\n",
        "    for pair in pairs:\n",
        "        input_lang.addSentence(pair[0])\n",
        "        output_lang.addSentence(pair[1])\n",
        "    print(\"Counted words:\")\n",
        "    print(input_lang.name, input_lang.n_words)\n",
        "    print(output_lang.name, output_lang.n_words)\n",
        "    return input_lang, output_lang, pairs"
      ]
    },
    {
      "cell_type": "markdown",
      "metadata": {},
      "source": [
        "#### Two types of POI data are imported, the first is subtype and the second is basetype."
      ]
    },
    {
      "cell_type": "code",
      "execution_count": null,
      "metadata": {
        "id": "8NqxR4sMunH_"
      },
      "outputs": [],
      "source": [
        "input_lang, output_lang, pairs = prepareData('ty', 'sv', True)\n",
        "# print(random.choice(pairs))"
      ]
    },
    {
      "cell_type": "markdown",
      "metadata": {},
      "source": [
        "A Recurrent Neural Network, or RNN, is a network that operates on a\n",
        "sequence and uses its own output as input for subsequent steps.\n",
        "The Encoder\n",
        "\n",
        "\n",
        "The encoder of a seq2seq network is a RNN that outputs some value for\n",
        "every word from the input sentence. For every input word the encoder\n",
        "outputs a vector and a hidden state, and uses the hidden state for the\n",
        "next input word."
      ]
    },
    {
      "cell_type": "code",
      "execution_count": null,
      "metadata": {
        "id": "d9Ugirgilb9m"
      },
      "outputs": [],
      "source": [
        "class EncoderRNN(nn.Module):\n",
        "    def __init__(self, input_size, hidden_size):\n",
        "        super(EncoderRNN, self).__init__()\n",
        "        self.hidden_size = hidden_size\n",
        "\n",
        "        self.embedding = nn.Embedding(input_size, hidden_size)\n",
        "        self.gru = nn.GRU(hidden_size, hidden_size)\n",
        "\n",
        "    def forward(self, input, hidden):\n",
        "        embedded = self.embedding(input).view(1, 1, -1)\n",
        "        output = embedded\n",
        "        output, hidden = self.gru(output, hidden)\n",
        "        return output, hidden\n",
        "\n",
        "    def initHidden(self):\n",
        "        return torch.zeros(1, 1, self.hidden_size, device=device)"
      ]
    },
    {
      "cell_type": "markdown",
      "metadata": {
        "id": "hk-ODgwslb9n"
      },
      "source": [
        "The Decoder\n",
        "-----------\n",
        "\n",
        "The decoder is another RNN that takes the encoder output vector(s) and\n",
        "outputs a sequence of words to create the translation."
      ]
    },
    {
      "cell_type": "code",
      "execution_count": null,
      "metadata": {
        "id": "ajg3EWg_lb9o"
      },
      "outputs": [],
      "source": [
        "class DecoderRNN(nn.Module):\n",
        "    def __init__(self, hidden_size, output_size):\n",
        "        super(DecoderRNN, self).__init__()\n",
        "        self.hidden_size = hidden_size\n",
        "\n",
        "        self.embedding = nn.Embedding(output_size, hidden_size)\n",
        "        self.gru = nn.GRU(hidden_size, hidden_size)\n",
        "        self.out = nn.Linear(hidden_size, output_size)\n",
        "        self.softmax = nn.LogSoftmax(dim=1)\n",
        "\n",
        "    def forward(self, input, hidden):\n",
        "        output = self.embedding(input).view(1, 1, -1)\n",
        "        output = F.relu(output)\n",
        "        output, hidden = self.gru(output, hidden)\n",
        "        output = self.softmax(self.out(output[0]))\n",
        "        return output, hidden\n",
        "\n",
        "    def initHidden(self):\n",
        "        return torch.zeros(1, 1, self.hidden_size, device=device)"
      ]
    },
    {
      "cell_type": "markdown",
      "metadata": {},
      "source": [
        "#### Attention Decoder"
      ]
    },
    {
      "cell_type": "code",
      "execution_count": null,
      "metadata": {
        "id": "gC9ytHoFlb9q"
      },
      "outputs": [],
      "source": [
        "class AttnDecoderRNN(nn.Module):\n",
        "    def __init__(self, hidden_size, output_size, dropout_p=0.1, max_length=MAX_LENGTH):\n",
        "        super(AttnDecoderRNN, self).__init__()\n",
        "        self.hidden_size = hidden_size\n",
        "        self.output_size = output_size\n",
        "        self.dropout_p = dropout_p\n",
        "        self.max_length = max_length\n",
        "\n",
        "        self.embedding = nn.Embedding(self.output_size, self.hidden_size)\n",
        "        self.attn = nn.Linear(self.hidden_size * 2, self.max_length)\n",
        "        self.attn_combine = nn.Linear(self.hidden_size * 2, self.hidden_size)\n",
        "        self.dropout = nn.Dropout(self.dropout_p)\n",
        "        self.gru = nn.GRU(self.hidden_size, self.hidden_size)\n",
        "        self.out = nn.Linear(self.hidden_size, self.output_size)\n",
        "\n",
        "    def forward(self, input, hidden, encoder_outputs):\n",
        "        embedded = self.embedding(input).view(1, 1, -1)\n",
        "        embedded = self.dropout(embedded)\n",
        "\n",
        "        attn_weights = F.softmax(\n",
        "            self.attn(torch.cat((embedded[0], hidden[0]), 1)), dim=1)\n",
        "        attn_applied = torch.bmm(attn_weights.unsqueeze(0),\n",
        "                                 encoder_outputs.unsqueeze(0))\n",
        "\n",
        "        output = torch.cat((embedded[0], attn_applied[0]), 1)\n",
        "        output = self.attn_combine(output).unsqueeze(0)\n",
        "\n",
        "        output = F.relu(output)\n",
        "        output, hidden = self.gru(output, hidden)\n",
        "\n",
        "        output = F.log_softmax(self.out(output[0]), dim=1)\n",
        "        return output, hidden, attn_weights\n",
        "\n",
        "    def initHidden(self):\n",
        "        return torch.zeros(1, 1, self.hidden_size, device=device)"
      ]
    },
    {
      "cell_type": "code",
      "execution_count": null,
      "metadata": {
        "id": "ZQYFLv3ilb9r"
      },
      "outputs": [],
      "source": [
        "def indexesFromSentence(lang, sentence):\n",
        "    return [lang.word2index[word] for word in sentence.split(' ')]\n",
        "\n",
        "\n",
        "def tensorFromSentence(lang, sentence):\n",
        "    indexes = indexesFromSentence(lang, sentence)\n",
        "    indexes.append(EOS_token)\n",
        "    return torch.tensor(indexes, dtype=torch.long, device=device).view(-1, 1)\n",
        "\n",
        "\n",
        "def tensorsFromPair(pair):\n",
        "    input_tensor = tensorFromSentence(input_lang, pair[0])\n",
        "    target_tensor = tensorFromSentence(output_lang, pair[1])\n",
        "    return (input_tensor, target_tensor)"
      ]
    },
    {
      "cell_type": "markdown",
      "metadata": {
        "id": "VSaW3zo6lb9r"
      },
      "source": [
        "Training the Model\n",
        "------------------\n",
        "\n",
        "To train we run the input sentence through the encoder, and keep track\n",
        "of every output and the latest hidden state. Then the decoder is given\n",
        "the ``<SOS>`` token as its first input, and the last hidden state of the\n",
        "encoder as its first hidden state."
      ]
    },
    {
      "cell_type": "code",
      "execution_count": null,
      "metadata": {
        "id": "Y3b8TbWzlb9s"
      },
      "outputs": [],
      "source": [
        "teacher_forcing_ratio = 0.5\n",
        "\n",
        "\n",
        "def train(input_tensor, target_tensor, encoder, decoder, encoder_optimizer, decoder_optimizer, criterion, max_length=MAX_LENGTH):\n",
        "    encoder_hidden = encoder.initHidden()\n",
        "\n",
        "    encoder_optimizer.zero_grad()\n",
        "    decoder_optimizer.zero_grad()\n",
        "\n",
        "    input_length = input_tensor.size(0)\n",
        "    target_length = target_tensor.size(0)\n",
        "\n",
        "    encoder_outputs = torch.zeros(max_length, encoder.hidden_size, device=device)\n",
        "\n",
        "    loss = 0\n",
        "\n",
        "    for ei in range(input_length):\n",
        "        encoder_output, encoder_hidden = encoder(\n",
        "            input_tensor[ei], encoder_hidden)\n",
        "        encoder_outputs[ei] = encoder_output[0, 0]\n",
        "\n",
        "    decoder_input = torch.tensor([[SOS_token]], device=device)\n",
        "\n",
        "    decoder_hidden = encoder_hidden\n",
        "\n",
        "    use_teacher_forcing = True if random.random() < teacher_forcing_ratio else False\n",
        "\n",
        "    if use_teacher_forcing:\n",
        "        # Teacher forcing: Feed the target as the next input\n",
        "        for di in range(target_length):\n",
        "            decoder_output, decoder_hidden, decoder_attention = decoder(\n",
        "                decoder_input, decoder_hidden, encoder_outputs)\n",
        "            loss += criterion(decoder_output, target_tensor[di])\n",
        "            decoder_input = target_tensor[di]  # Teacher forcing\n",
        "\n",
        "    else:\n",
        "        # Without teacher forcing: use its own predictions as the next input\n",
        "        for di in range(target_length):\n",
        "            decoder_output, decoder_hidden, decoder_attention = decoder(\n",
        "                decoder_input, decoder_hidden, encoder_outputs)\n",
        "            topv, topi = decoder_output.topk(1)\n",
        "            decoder_input = topi.squeeze().detach()  # detach from history as input\n",
        "\n",
        "            loss += criterion(decoder_output, target_tensor[di])\n",
        "            if decoder_input.item() == EOS_token:\n",
        "                break\n",
        "\n",
        "    loss.backward()\n",
        "\n",
        "    encoder_optimizer.step()\n",
        "    decoder_optimizer.step()\n",
        "\n",
        "    return loss.item() / target_length"
      ]
    },
    {
      "cell_type": "markdown",
      "metadata": {
        "id": "Et8hCknylb9s"
      },
      "source": [
        "This is a helper function to print time elapsed and estimated time\n",
        "remaining given the current time and progress %.\n",
        "\n",
        "\n"
      ]
    },
    {
      "cell_type": "code",
      "execution_count": null,
      "metadata": {
        "id": "Ngcd8gsslb9t"
      },
      "outputs": [],
      "source": [
        "import time\n",
        "import math\n",
        "\n",
        "\n",
        "def asMinutes(s):\n",
        "    m = math.floor(s / 60)\n",
        "    s -= m * 60\n",
        "    return '%dm %ds' % (m, s)\n",
        "\n",
        "\n",
        "def timeSince(since, percent):\n",
        "    now = time.time()\n",
        "    s = now - since\n",
        "    es = s / (percent)\n",
        "    rs = es - s\n",
        "    return '%s (- %s)' % (asMinutes(s), asMinutes(rs))"
      ]
    },
    {
      "cell_type": "markdown",
      "metadata": {
        "id": "w_V5GHuWlb9t"
      },
      "source": [
        "The whole training process looks like this:\n",
        "\n",
        "-  Start a timer\n",
        "-  Initialize optimizers and criterion\n",
        "-  Create set of training pairs\n",
        "-  Start empty losses array for plotting\n",
        "\n",
        "Then we call ``train`` many times and occasionally print the progress (%\n",
        "of examples, time so far, estimated time) and average loss.\n",
        "\n",
        "\n"
      ]
    },
    {
      "cell_type": "markdown",
      "metadata": {
        "id": "5xk3eZ6ui1s0"
      },
      "source": [
        "#### Modify it to generate the list of loses we need"
      ]
    },
    {
      "cell_type": "code",
      "execution_count": null,
      "metadata": {
        "id": "JW9xHRUelb9u"
      },
      "outputs": [],
      "source": [
        "def trainIters(encoder, decoder, n_iters, print_every=1000, plot_every=100, learning_rate=0.01):\n",
        "    start = time.time()\n",
        "    plot_losses = []\n",
        "    print_loss_total = 0  # Reset every print_every\n",
        "    plot_loss_total = 0  # Reset every plot_every\n",
        "\n",
        "    encoder_optimizer = optim.SGD(encoder.parameters(), lr=learning_rate)\n",
        "    decoder_optimizer = optim.SGD(decoder.parameters(), lr=learning_rate)\n",
        "    training_pairs = [tensorsFromPair(random.choice(pairs))\n",
        "                      for i in range(n_iters)]\n",
        "    criterion = nn.NLLLoss()\n",
        "\n",
        "    loss_list=[]\n",
        "\n",
        "    for iter in range(1, n_iters + 1):\n",
        "        training_pair = training_pairs[iter - 1]\n",
        "        input_tensor = training_pair[0]\n",
        "        target_tensor = training_pair[1]\n",
        "\n",
        "        loss = train(input_tensor, target_tensor, encoder,\n",
        "                     decoder, encoder_optimizer, decoder_optimizer, criterion)\n",
        "        print_loss_total += loss\n",
        "        plot_loss_total += loss\n",
        "\n",
        "        loss_list.append(print_loss_total / print_every)\n",
        "\n",
        "        if iter % print_every == 0:\n",
        "            print_loss_avg = print_loss_total / print_every\n",
        "            print_loss_total = 0\n",
        "            print('%s (%d %d%%) %.4f' % (timeSince(start, iter / n_iters),\n",
        "                                         iter, iter / n_iters * 100, print_loss_avg))\n",
        "\n",
        "        if iter % plot_every == 0:\n",
        "            plot_loss_avg = plot_loss_total / plot_every\n",
        "            plot_losses.append(plot_loss_avg)\n",
        "            plot_loss_total = 0\n",
        "\n",
        "    showPlot(plot_losses)\n",
        "    return (loss_list)"
      ]
    },
    {
      "cell_type": "markdown",
      "metadata": {
        "id": "6-rwK4X2lb9u"
      },
      "source": [
        "#### Plotting results\n",
        "\n",
        "\n",
        "\n"
      ]
    },
    {
      "cell_type": "code",
      "execution_count": null,
      "metadata": {
        "id": "bbBGUBxKlb9u"
      },
      "outputs": [],
      "source": [
        "%matplotlib inline\n",
        "import matplotlib.pyplot as plt\n",
        "\n",
        "\n",
        "plt.switch_backend('agg')\n",
        "import matplotlib.ticker as ticker\n",
        "import numpy as np\n",
        "\n",
        "def showPlot(points):\n",
        "    plt.figure()\n",
        "    fig, ax = plt.subplots()\n",
        "    # this locator puts ticks at regular intervals\n",
        "    loc = ticker.MultipleLocator(base=0.2)\n",
        "    ax.yaxis.set_major_locator(loc)\n",
        "    plt.plot(points)"
      ]
    },
    {
      "cell_type": "markdown",
      "metadata": {
        "id": "lKoUgTi-lb9v"
      },
      "source": [
        "Evaluation\n"
      ]
    },
    {
      "cell_type": "code",
      "execution_count": null,
      "metadata": {
        "colab": {
          "base_uri": "https://localhost:8080/"
        },
        "id": "UoJ5MV3YXI8I",
        "outputId": "0dd7ef66-0ca3-41f4-bf17-0c25b0f01438"
      },
      "outputs": [
        {
          "data": {
            "text/plain": [
              "torch.Size([11, 11])"
            ]
          },
          "execution_count": 89,
          "metadata": {},
          "output_type": "execute_result"
        }
      ],
      "source": [
        "evaluate(encoder1, attn_decoder1, pairs[0][0], 11)[1].shape"
      ]
    },
    {
      "cell_type": "code",
      "execution_count": null,
      "metadata": {
        "colab": {
          "base_uri": "https://localhost:8080/"
        },
        "id": "lzBvlP_uXdN7",
        "outputId": "8252775e-fe9c-410a-97cb-74ae4090758b"
      },
      "outputs": [
        {
          "name": "stdout",
          "output_type": "stream",
          "text": [
            "------\n",
            "tensor([[ 0.0050,  0.9987, -0.0852,  ...,  0.9898,  0.9306, -0.1805],\n",
            "        [-0.0349,  0.9982, -0.1514,  ...,  0.9869, -0.9909, -0.1076],\n",
            "        [ 0.5328, -0.9968, -0.1231,  ...,  0.9869,  0.9844, -0.1183],\n",
            "        ...,\n",
            "        [-0.0992, -0.9906, -0.1164,  ...,  0.9796,  0.9732,  0.9416],\n",
            "        [-0.1001, -0.9898, -0.1171,  ...,  0.9797,  0.9342,  0.9261],\n",
            "        [ 0.0000,  0.0000,  0.0000,  ...,  0.0000,  0.0000,  0.0000]],\n",
            "       device='cuda:0')\n"
          ]
        },
        {
          "data": {
            "text/plain": [
              "torch.Size([11, 256])"
            ]
          },
          "execution_count": 95,
          "metadata": {},
          "output_type": "execute_result"
        }
      ],
      "source": [
        "evaluate(encoder1, attn_decoder1, pairs[0][0], 11)[2].shape"
      ]
    },
    {
      "cell_type": "code",
      "execution_count": null,
      "metadata": {
        "colab": {
          "base_uri": "https://localhost:8080/"
        },
        "id": "ww-eL-jIZu-M",
        "outputId": "577a4d24-ff40-4e6e-f5a9-9297e07292a1"
      },
      "outputs": [
        {
          "name": "stdout",
          "output_type": "stream",
          "text": [
            "------\n",
            "tensor([[ 0.0050,  0.9987, -0.0852,  ...,  0.9898,  0.9306, -0.1805],\n",
            "        [ 0.3252, -0.9999,  0.4221,  ...,  0.9897,  0.9990, -0.2297],\n",
            "        [ 0.3524, -0.9745,  0.7969,  ...,  0.9895,  0.9980, -0.9228],\n",
            "        ...,\n",
            "        [ 0.0000,  0.0000,  0.0000,  ...,  0.0000,  0.0000,  0.0000],\n",
            "        [ 0.0000,  0.0000,  0.0000,  ...,  0.0000,  0.0000,  0.0000],\n",
            "        [ 0.0000,  0.0000,  0.0000,  ...,  0.0000,  0.0000,  0.0000]],\n",
            "       device='cuda:0')\n"
          ]
        },
        {
          "data": {
            "text/plain": [
              "(['临街院门',\n",
              "  '住宅小区',\n",
              "  '临街院门',\n",
              "  '临街院门',\n",
              "  '临街院门',\n",
              "  '临街院门',\n",
              "  '临街院门',\n",
              "  '临街院门',\n",
              "  '住宅小区',\n",
              "  '住宅小区',\n",
              "  '<EOS>'],\n",
              " tensor([[1.1605e-05, 2.3282e-05, 9.9980e-01, 5.0843e-07, 3.7539e-08, 6.7308e-06,\n",
              "          6.8762e-06, 5.0362e-05, 1.6756e-05, 4.8202e-06, 8.1925e-05],\n",
              "         [1.3764e-03, 7.1089e-04, 3.2003e-04, 1.9484e-04, 1.2371e-06, 9.6058e-01,\n",
              "          7.7739e-03, 2.3251e-03, 8.7646e-03, 1.7206e-02, 7.4312e-04],\n",
              "         [7.4651e-02, 5.5732e-04, 8.7867e-04, 1.2296e-03, 8.8658e-01, 4.0239e-03,\n",
              "          1.0302e-02, 1.9453e-02, 5.4129e-04, 1.2730e-03, 5.0963e-04],\n",
              "         [1.1019e-04, 2.3588e-02, 1.7183e-03, 5.1203e-03, 1.6542e-04, 9.0337e-01,\n",
              "          3.1668e-02, 1.1008e-02, 9.8336e-03, 8.6062e-03, 4.8089e-03],\n",
              "         [8.7327e-06, 4.6483e-03, 1.0945e-03, 7.2392e-03, 1.6048e-05, 9.7418e-01,\n",
              "          5.4948e-03, 2.9275e-03, 2.3506e-03, 1.5444e-03, 4.9996e-04],\n",
              "         [3.0531e-05, 4.6507e-03, 4.9169e-03, 1.3617e-02, 6.2447e-04, 9.5077e-01,\n",
              "          9.4990e-03, 3.9725e-03, 6.2745e-03, 5.1062e-03, 5.3717e-04],\n",
              "         [1.0533e-05, 4.5441e-03, 5.5196e-03, 1.6290e-02, 1.2028e-03, 9.4371e-01,\n",
              "          1.3645e-02, 1.0112e-03, 9.0846e-03, 4.6803e-03, 3.0263e-04],\n",
              "         [4.3416e-05, 1.3290e-03, 5.3349e-04, 9.6919e-04, 1.6540e-05, 9.8031e-01,\n",
              "          1.8005e-03, 5.7129e-04, 8.4008e-03, 5.7181e-03, 3.1172e-04],\n",
              "         [1.8485e-05, 1.6931e-03, 1.6238e-03, 2.5709e-02, 2.9918e-05, 9.3883e-01,\n",
              "          1.6228e-02, 5.0077e-04, 1.3085e-02, 1.8731e-03, 4.0855e-04],\n",
              "         [5.8864e-04, 1.2332e-05, 1.1079e-04, 1.0044e-03, 9.9650e-01, 1.4668e-04,\n",
              "          7.3059e-04, 8.3967e-04, 2.3999e-05, 3.3443e-05, 6.5379e-06],\n",
              "         [7.5753e-05, 2.7338e-05, 4.4156e-04, 4.8841e-03, 9.9148e-01, 2.2492e-04,\n",
              "          8.6667e-04, 1.9635e-03, 1.1971e-05, 1.8920e-05, 9.1723e-06]]),\n",
              " tensor([[ 0.0050,  0.9987, -0.0852,  ...,  0.9898,  0.9306, -0.1805],\n",
              "         [ 0.3252, -0.9999,  0.4221,  ...,  0.9897,  0.9990, -0.2297],\n",
              "         [ 0.3524, -0.9745,  0.7969,  ...,  0.9895,  0.9980, -0.9228],\n",
              "         ...,\n",
              "         [ 0.0000,  0.0000,  0.0000,  ...,  0.0000,  0.0000,  0.0000],\n",
              "         [ 0.0000,  0.0000,  0.0000,  ...,  0.0000,  0.0000,  0.0000],\n",
              "         [ 0.0000,  0.0000,  0.0000,  ...,  0.0000,  0.0000,  0.0000]],\n",
              "        device='cuda:0'))"
            ]
          },
          "execution_count": 110,
          "metadata": {},
          "output_type": "execute_result"
        }
      ],
      "source": [
        "evaluate(encoder1, attn_decoder1,'tree house window plant car wheel', 11)"
      ]
    },
    {
      "cell_type": "code",
      "execution_count": null,
      "metadata": {
        "colab": {
          "base_uri": "https://localhost:8080/"
        },
        "id": "fxEPStKTXpuw",
        "outputId": "90f995cf-81e5-4c57-9f5d-f9c1ac2d8c33"
      },
      "outputs": [
        {
          "name": "stdout",
          "output_type": "stream",
          "text": [
            "------\n",
            "tensor([[ 0.0050,  0.9987, -0.0852,  ...,  0.9898,  0.9306, -0.1805],\n",
            "        [ 0.3252, -0.9999,  0.4221,  ...,  0.9897,  0.9990, -0.2297],\n",
            "        [ 0.1463, -0.9943,  0.4196,  ...,  0.9877, -0.9971, -0.2197],\n",
            "        ...,\n",
            "        [-0.1547, -0.8851,  0.3311,  ...,  0.9874,  0.1551,  0.9263],\n",
            "        [-0.9275, -0.8819,  0.1806,  ...,  0.9874, -0.0907,  0.9342],\n",
            "        [-0.9277, -0.8668,  0.1795,  ...,  0.9874, -0.0983,  0.9109]],\n",
            "       device='cuda:0')\n"
          ]
        },
        {
          "data": {
            "text/plain": [
              "torch.Size([11, 256])"
            ]
          },
          "execution_count": 98,
          "metadata": {},
          "output_type": "execute_result"
        }
      ],
      "source": [
        "evaluate(encoder1, attn_decoder1, pairs[1][0], 11)[2].shape"
      ]
    },
    {
      "cell_type": "code",
      "execution_count": null,
      "metadata": {
        "id": "SprH-Sehlb9v"
      },
      "outputs": [],
      "source": [
        "def evaluate(encoder, decoder, sentence, max_length=MAX_LENGTH):\n",
        "    with torch.no_grad():\n",
        "        input_tensor = tensorFromSentence(input_lang, sentence)\n",
        "        input_length = input_tensor.size()[0]\n",
        "        encoder_hidden = encoder.initHidden()\n",
        "\n",
        "        encoder_outputs = torch.zeros(max_length, encoder.hidden_size, device=device)\n",
        "\n",
        "        # print(encoder_outputs)\n",
        "\n",
        "        for ei in range(input_length):\n",
        "            encoder_output, encoder_hidden = encoder(input_tensor[ei],\n",
        "                                                     encoder_hidden)\n",
        "            encoder_outputs[ei] += encoder_output[0, 0]\n",
        "\n",
        "        print('------')\n",
        "        print(encoder_outputs)\n",
        "\n",
        "        decoder_input = torch.tensor([[SOS_token]], device=device)  # SOS\n",
        "\n",
        "        decoder_hidden = encoder_hidden\n",
        "\n",
        "        decoded_words = []\n",
        "        decoder_attentions = torch.zeros(max_length, max_length)\n",
        "\n",
        "        for di in range(max_length):\n",
        "            decoder_output, decoder_hidden, decoder_attention = decoder(\n",
        "                decoder_input, decoder_hidden, encoder_outputs)\n",
        "            decoder_attentions[di] = decoder_attention.data\n",
        "            topv, topi = decoder_output.data.topk(1)\n",
        "            if topi.item() == EOS_token:\n",
        "                decoded_words.append('<EOS>')\n",
        "                break\n",
        "            else:\n",
        "                decoded_words.append(output_lang.index2word[topi.item()])\n",
        "\n",
        "            decoder_input = topi.squeeze().detach()\n",
        "\n",
        "        return decoded_words, decoder_attentions[:di + 1],encoder_outputs"
      ]
    },
    {
      "cell_type": "code",
      "execution_count": null,
      "metadata": {
        "id": "yCtUUQYjjP1q"
      },
      "outputs": [],
      "source": [
        "def evaluate(encoder, decoder, sentence, max_length=MAX_LENGTH):\n",
        "    with torch.no_grad():\n",
        "        input_tensor = tensorFromSentence(input_lang, sentence)\n",
        "        input_length = input_tensor.size()[0]\n",
        "        encoder_hidden = encoder.initHidden()\n",
        "\n",
        "        encoder_outputs = torch.zeros(max_length, encoder.hidden_size, device=device)\n",
        "\n",
        "        # print(encoder_outputs)\n",
        "\n",
        "        for ei in range(input_length):\n",
        "            encoder_output, encoder_hidden = encoder(input_tensor[ei],\n",
        "                                                     encoder_hidden)\n",
        "            encoder_outputs[ei] += encoder_output[0, 0]\n",
        "\n",
        "        # print('------')\n",
        "        # print(encoder_outputs)\n",
        "\n",
        "        decoder_input = torch.tensor([[SOS_token]], device=device)  # SOS\n",
        "\n",
        "        decoder_hidden = encoder_hidden\n",
        "\n",
        "        decoded_words = []\n",
        "        decoder_attentions = torch.zeros(max_length, max_length)\n",
        "\n",
        "        for di in range(max_length):\n",
        "            decoder_output, decoder_hidden, decoder_attention = decoder(\n",
        "                decoder_input, decoder_hidden, encoder_outputs)\n",
        "            decoder_attentions[di] = decoder_attention.data\n",
        "            topv, topi = decoder_output.data.topk(1)\n",
        "            if topi.item() == EOS_token:\n",
        "                decoded_words.append('<EOS>')\n",
        "                break\n",
        "            else:\n",
        "                decoded_words.append(output_lang.index2word[topi.item()])\n",
        "\n",
        "            decoder_input = topi.squeeze().detach()\n",
        "\n",
        "        return decoded_words, decoder_attentions[:di + 1],encoder_outputs"
      ]
    },
    {
      "cell_type": "markdown",
      "metadata": {
        "id": "blhXZg8mlb9v"
      },
      "source": [
        "We can evaluate random sentences from the training set and print out the\n",
        "input, target, and output to make some subjective quality judgements:\n",
        "\n",
        "\n"
      ]
    },
    {
      "cell_type": "code",
      "execution_count": null,
      "metadata": {
        "id": "CLdRQBmHlb9w"
      },
      "outputs": [],
      "source": [
        "def evaluateRandomly(encoder, decoder, n=10):\n",
        "    for i in range(n):\n",
        "        pair = random.choice(pairs)\n",
        "        print('>', pair[0])\n",
        "        print('=', pair[1])\n",
        "        output_words, attentions = evaluate(encoder, decoder, pair[0])\n",
        "        output_sentence = ' '.join(output_words)\n",
        "        print('<', output_sentence)\n",
        "        print('')"
      ]
    },
    {
      "cell_type": "code",
      "execution_count": null,
      "metadata": {
        "colab": {
          "base_uri": "https://localhost:8080/"
        },
        "id": "eDRKomAXnDDz",
        "outputId": "fd4c759f-e0ee-4dac-dbeb-06ed95e01ba7"
      },
      "outputs": [
        {
          "name": "stdout",
          "output_type": "stream",
          "text": [
            "Tue Sep  7 09:06:14 2021       \n",
            "+-----------------------------------------------------------------------------+\n",
            "| NVIDIA-SMI 470.63.01    Driver Version: 460.32.03    CUDA Version: 11.2     |\n",
            "|-------------------------------+----------------------+----------------------+\n",
            "| GPU  Name        Persistence-M| Bus-Id        Disp.A | Volatile Uncorr. ECC |\n",
            "| Fan  Temp  Perf  Pwr:Usage/Cap|         Memory-Usage | GPU-Util  Compute M. |\n",
            "|                               |                      |               MIG M. |\n",
            "|===============================+======================+======================|\n",
            "|   0  Tesla K80           Off  | 00000000:00:04.0 Off |                    0 |\n",
            "| N/A   73C    P8    33W / 149W |      3MiB / 11441MiB |      0%      Default |\n",
            "|                               |                      |                  N/A |\n",
            "+-------------------------------+----------------------+----------------------+\n",
            "                                                                               \n",
            "+-----------------------------------------------------------------------------+\n",
            "| Processes:                                                                  |\n",
            "|  GPU   GI   CI        PID   Type   Process name                  GPU Memory |\n",
            "|        ID   ID                                                   Usage      |\n",
            "|=============================================================================|\n",
            "|  No running processes found                                                 |\n",
            "+-----------------------------------------------------------------------------+\n"
          ]
        }
      ],
      "source": [
        "!nvidia-smi"
      ]
    },
    {
      "cell_type": "code",
      "execution_count": null,
      "metadata": {
        "id": "GkPY-B1flb9w"
      },
      "outputs": [],
      "source": [
        "hidden_size = 256\n",
        "encoder1 = EncoderRNN(input_lang.n_words, hidden_size).to(device)\n",
        "attn_decoder1 = AttnDecoderRNN(hidden_size, output_lang.n_words, dropout_p=0.1).to(device)"
      ]
    },
    {
      "cell_type": "code",
      "execution_count": null,
      "metadata": {
        "colab": {
          "base_uri": "https://localhost:8080/"
        },
        "id": "cRqFyAoejZMZ",
        "outputId": "297893b4-2120-4d7e-c2af-b8bfcb8c5c1e"
      },
      "outputs": [
        {
          "name": "stdout",
          "output_type": "stream",
          "text": [
            "2m 34s (- 36m 5s) (5000 6%) 2.4047\n",
            "5m 3s (- 32m 53s) (10000 13%) 2.3190\n",
            "7m 32s (- 30m 10s) (15000 20%) 2.2730\n",
            "10m 1s (- 27m 34s) (20000 26%) 2.2574\n",
            "12m 30s (- 25m 1s) (25000 33%) 2.2371\n",
            "14m 59s (- 22m 29s) (30000 40%) 2.2280\n",
            "17m 28s (- 19m 58s) (35000 46%) 2.2219\n",
            "19m 57s (- 17m 27s) (40000 53%) 2.2204\n",
            "22m 25s (- 14m 57s) (45000 60%) 2.2096\n",
            "24m 54s (- 12m 27s) (50000 66%) 2.2004\n",
            "27m 23s (- 9m 57s) (55000 73%) 2.2058\n",
            "29m 51s (- 7m 27s) (60000 80%) 2.1881\n",
            "32m 19s (- 4m 58s) (65000 86%) 2.2015\n",
            "34m 49s (- 2m 29s) (70000 93%) 2.1935\n",
            "37m 18s (- 0m 0s) (75000 100%) 2.1750\n"
          ]
        }
      ],
      "source": [
        "train_loss=trainIters(encoder1, attn_decoder1, 75000, print_every=5000)\n",
        "#loss function"
      ]
    },
    {
      "cell_type": "code",
      "execution_count": null,
      "metadata": {
        "id": "y4pYYUrvgu2i"
      },
      "outputs": [],
      "source": [
        "torch.save(encoder1, '/content/drive/MyDrive/encoderty.pth')  #  Save the entire model structure of the neural network as well as the parameters\n",
        "torch.save(attn_decoder1, '/content/drive/MyDrive/attnty.pth')  #  Save the entire model structure of the neural network as well as the parameters"
      ]
    },
    {
      "cell_type": "code",
      "execution_count": null,
      "metadata": {
        "id": "xlTMl2CbjcBz"
      },
      "outputs": [],
      "source": [
        "with open('/content/drive/MyDrive/lossty.text','w+',encoding='utf-8') as f:\n",
        "  for row in train_loss:\n",
        "      f.write(str(row))   \n",
        "      f.write('\\n')"
      ]
    },
    {
      "cell_type": "code",
      "execution_count": null,
      "metadata": {
        "colab": {
          "base_uri": "https://localhost:8080/",
          "height": 293
        },
        "id": "tWZaoQHOYkIe",
        "outputId": "372ac778-33dd-459e-e2b3-2ffad7c836f5"
      },
      "outputs": [
        {
          "data": {
            "text/plain": [
              "<matplotlib.image.AxesImage at 0x7fed12375750>"
            ]
          },
          "execution_count": 89,
          "metadata": {},
          "output_type": "execute_result"
        },
        {
          "data": {
            "image/png": "[encoded data removed]",
            "text/plain": [
              "<Figure size 288x288 with 1 Axes>"
            ]
          },
          "metadata": {
            "needs_background": "light"
          },
          "output_type": "display_data"
        }
      ],
      "source": [
        "%matplotlib inline\n",
        "mat=evaluate(encoder1, attn_decoder1, pairs[16][0], 11)[1].numpy()\n",
        "plt.matshow(mat, cmap=plt.cm.Blues)"
      ]
    },
    {
      "cell_type": "code",
      "execution_count": null,
      "metadata": {
        "id": "u8jATByxku27"
      },
      "outputs": [],
      "source": [
        "def showAttention(input_sentence, output_words, attentions):\n",
        "    # Set up figure with colorbar\n",
        "    fig = plt.figure()\n",
        "    ax = fig.add_subplot(111)\n",
        "    cax = ax.matshow(attentions.numpy(), cmap='bone')\n",
        "    fig.colorbar(cax)\n",
        "\n",
        "    # Set up axes\n",
        "    ax.set_xticklabels([''] + input_sentence.split(' ') +\n",
        "                       ['<EOS>'], rotation=90)\n",
        "    ax.set_yticklabels([''] + output_words)\n",
        "\n",
        "    # Show label at every tick\n",
        "    ax.xaxis.set_major_locator(ticker.MultipleLocator(1))\n",
        "    ax.yaxis.set_major_locator(ticker.MultipleLocator(1))\n",
        "    plt.show()\n",
        "def evaluateAndShowAttention(input_sentence):\n",
        "    output_words, attentions,out = evaluate(\n",
        "        encoder1, attn_decoder1, input_sentence)\n",
        "    print('input =', input_sentence)\n",
        "    print('output =', ' '.join(output_words))\n",
        "    showAttention(input_sentence, output_words, attentions)\n",
        "\n",
        "    print(attentions.shape)\n",
        "# evaluateAndShowAttention(pairs[0][0])"
      ]
    },
    {
      "cell_type": "markdown",
      "metadata": {
        "id": "xnassm-4p5iv"
      },
      "source": [
        "生活服务场所',\n",
        " '生活服务场所',\n",
        " '临街院门',\n",
        " '临街院门',\n",
        " '临街院门',\n",
        " '公司',\n",
        " '公司企业',\n",
        " '中餐厅',\n",
        " '住宅小区',\n",
        " '美容美发店'"
      ]
    },
    {
      "cell_type": "code",
      "execution_count": null,
      "metadata": {
        "colab": {
          "base_uri": "https://localhost:8080/"
        },
        "id": "psf15AAsYEK7",
        "outputId": "8f463cc0-91ce-4ea5-92b7-4e1eaff18c2f"
      },
      "outputs": [
        {
          "data": {
            "text/plain": [
              "(['农林牧渔基地', '公司', '临街院门', '住宅区', '产业园区', '商务住宅相关', '公共厕所', '<EOS>'],\n",
              " tensor([[8.8955e-05, 9.8950e-01, 1.7732e-03, 1.3752e-03, 2.2788e-03, 1.8562e-03,\n",
              "          5.1978e-04, 3.5776e-04, 8.1736e-04, 7.4017e-04, 6.9501e-04],\n",
              "         [3.8148e-04, 1.0019e-03, 6.1730e-04, 3.4045e-04, 9.9538e-01, 5.7567e-04,\n",
              "          3.7146e-04, 2.6926e-04, 3.8660e-04, 2.2554e-04, 4.4583e-04],\n",
              "         [4.2291e-05, 2.9033e-03, 1.0130e-02, 9.5337e-01, 1.1783e-03, 3.9807e-03,\n",
              "          3.4021e-03, 1.5078e-03, 2.2293e-03, 1.8168e-02, 3.0870e-03],\n",
              "         [1.6862e-02, 2.0547e-01, 1.6244e-01, 2.1330e-03, 2.5137e-01, 5.7906e-03,\n",
              "          1.4487e-02, 8.0495e-02, 2.1061e-01, 3.2198e-02, 1.8141e-02],\n",
              "         [6.7905e-02, 1.8558e-02, 6.6666e-01, 5.6163e-02, 8.3287e-02, 2.1825e-02,\n",
              "          1.9436e-02, 1.5276e-02, 8.0308e-03, 1.6106e-02, 2.6752e-02],\n",
              "         [1.0355e-03, 1.8900e-02, 2.3952e-02, 6.2895e-01, 1.6651e-01, 4.3882e-02,\n",
              "          4.3341e-02, 1.8898e-02, 2.1920e-02, 1.3387e-02, 1.9217e-02],\n",
              "         [4.4044e-04, 8.6730e-04, 9.0766e-03, 8.5332e-01, 1.9788e-02, 4.9619e-02,\n",
              "          1.8039e-02, 6.8478e-03, 2.1342e-02, 4.8368e-03, 1.5826e-02],\n",
              "         [1.7503e-02, 8.6723e-04, 9.9780e-03, 9.2793e-01, 2.1835e-02, 1.0615e-02,\n",
              "          4.1059e-03, 1.5698e-03, 2.4840e-03, 1.0222e-03, 2.0937e-03]]),\n",
              " tensor([[ 0.1967, -0.1722, -0.0444,  ...,  0.7466, -0.6989, -0.5399],\n",
              "         [ 0.0891,  0.0285, -0.7676,  ...,  0.4146,  0.2283, -0.3240],\n",
              "         [-0.7730,  0.4102, -0.9566,  ...,  0.4947, -0.3292, -0.6358],\n",
              "         ...,\n",
              "         [-0.6949,  0.3717,  0.0100,  ...,  0.6879, -0.3779,  0.4839],\n",
              "         [-0.6815,  0.4353, -0.1182,  ...,  0.0650, -0.4147,  0.9677],\n",
              "         [-0.6527,  0.3986, -0.6934,  ..., -0.9776, -0.3887, -0.5979]],\n",
              "        device='cuda:0'))"
            ]
          },
          "execution_count": 107,
          "metadata": {},
          "output_type": "execute_result"
        }
      ],
      "source": [
        "evaluate(encoder1, attn_decoder1, 'window tree house plant building bicycle wheel footwear chair person', 11)"
      ]
    },
    {
      "cell_type": "code",
      "execution_count": null,
      "metadata": {
        "id": "yVZLqBJA1U_8"
      },
      "outputs": [],
      "source": [
        "torch.save(encoder1, '/content/drive/MyDrive/encoder1')\n",
        "torch.save(attn_decoder1, '/content/drive/MyDrive/attn_decoder1')"
      ]
    },
    {
      "cell_type": "code",
      "execution_count": null,
      "metadata": {
        "id": "0GB-xgAk1j3z"
      },
      "outputs": [],
      "source": [
        "encoder1 = torch.load('/content/encoder1')\n",
        "attn_decoder1 = torch.load('/content/attn_decoder1')\n",
        "# model.eval()"
      ]
    },
    {
      "cell_type": "code",
      "execution_count": null,
      "metadata": {
        "id": "uzlgQCoBj27f"
      },
      "outputs": [],
      "source": [
        "evaluateRandomly(encoder1, attn_decoder1)"
      ]
    },
    {
      "cell_type": "code",
      "execution_count": null,
      "metadata": {
        "colab": {
          "base_uri": "https://localhost:8080/",
          "height": 293
        },
        "id": "X9RIw6f4lb9x",
        "outputId": "a995d0ed-e732-4378-aaf7-fa6521a71936"
      },
      "outputs": [
        {
          "data": {
            "text/plain": [
              "<matplotlib.image.AxesImage at 0x7f0f8eef15d0>"
            ]
          },
          "execution_count": 84,
          "metadata": {},
          "output_type": "execute_result"
        },
        {
          "data": {
            "image/png": "[encoded data removed]",
            "text/plain": [
              "<Figure size 288x288 with 1 Axes>"
            ]
          },
          "metadata": {
            "needs_background": "light"
          },
          "output_type": "display_data"
        }
      ],
      "source": [
        "%matplotlib inline\n",
        "MAX_LENGTH=10\n",
        "output_words, attentions = evaluate(\n",
        "    encoder1, attn_decoder1,pairs[0][0])\n",
        "\n",
        "plt.matshow(attentions.numpy())\n",
        "# plt.show()"
      ]
    },
    {
      "cell_type": "code",
      "execution_count": null,
      "metadata": {
        "id": "B3nejK_blb9y"
      },
      "outputs": [],
      "source": [
        "def showAttention(input_sentence, output_words, attentions):\n",
        "    # Set up figure with colorbar\n",
        "    fig = plt.figure()\n",
        "    ax = fig.add_subplot(111)\n",
        "    cax = ax.matshow(attentions.numpy(), cmap='bone')\n",
        "    fig.colorbar(cax)\n",
        "\n",
        "    # Set up axes\n",
        "    ax.set_xticklabels([''] + input_sentence.split(' ') +\n",
        "                       ['<EOS>'], rotation=90)\n",
        "    ax.set_yticklabels([''] + output_words)\n",
        "\n",
        "    # Show label at every tick\n",
        "    ax.xaxis.set_major_locator(ticker.MultipleLocator(1))\n",
        "    ax.yaxis.set_major_locator(ticker.MultipleLocator(1))\n",
        "\n",
        "    plt.show()\n",
        "\n",
        "\n",
        "def evaluateAndShowAttention(input_sentence):\n",
        "    output_words, attentions = evaluate(\n",
        "        encoder1, attn_decoder1, input_sentence)\n",
        "    print('input =', input_sentence)\n",
        "    print('output =', ' '.join(output_words))\n",
        "    showAttention(input_sentence, output_words, attentions)\n",
        "\n",
        "    print(attentions.shape)\n",
        "\n",
        "\n",
        "# evaluateAndShowAttention(pairs[0][0])"
      ]
    },
    {
      "cell_type": "code",
      "execution_count": null,
      "metadata": {
        "id": "et0fsLa5lKQn"
      },
      "outputs": [],
      "source": [
        "# evaluateAndShowAttention('car tree tree car tree land vehicle truck house')"
      ]
    },
    {
      "cell_type": "markdown",
      "metadata": {
        "id": "scADqDy2fiT5"
      },
      "source": [
        "In the last part we will verify the accuracy based on the rouge method"
      ]
    },
    {
      "cell_type": "code",
      "execution_count": null,
      "metadata": {
        "id": "a5s6KhzCfwJG"
      },
      "outputs": [],
      "source": [
        "from keras.preprocessing.text import Tokenizer\n",
        "\n",
        "import keras \n",
        "\n",
        "tokenizer = Tokenizer()\n",
        "text = [' '.join(catetypes)]\n",
        "tokenizer.fit_on_texts(text)\n",
        "\n",
        "keras.preprocessing.sequence.pad_sequences(tokenizer.texts_to_sequences([\"下 雨 我 加班\"]), maxlen=2,padding='post',truncating='post')"
      ]
    },
    {
      "cell_type": "code",
      "execution_count": null,
      "metadata": {
        "id": "JCojwgxIlQ6b"
      },
      "outputs": [],
      "source": [
        "# encoder1 = torch.load('/content/drive/MyDrive/encoder91')\n",
        "# attn_decoder1 = torch.load('/content/drive/MyDrive/attn_decoder91')\n",
        "# # model.eval()"
      ]
    },
    {
      "cell_type": "code",
      "execution_count": null,
      "metadata": {
        "colab": {
          "base_uri": "https://localhost:8080/"
        },
        "id": "6uGlJQMqti5N",
        "outputId": "23b47bc2-e486-4d50-86c1-2b20ac099854"
      },
      "outputs": [
        {
          "name": "stdout",
          "output_type": "stream",
          "text": [
            "Requirement already satisfied: rouge-score in /usr/local/lib/python3.7/dist-packages (0.0.4)\n",
            "Requirement already satisfied: absl-py in /usr/local/lib/python3.7/dist-packages (from rouge-score) (0.12.0)\n",
            "Requirement already satisfied: numpy in /usr/local/lib/python3.7/dist-packages (from rouge-score) (1.19.5)\n",
            "Requirement already satisfied: six>=1.14.0 in /usr/local/lib/python3.7/dist-packages (from rouge-score) (1.15.0)\n",
            "Requirement already satisfied: nltk in /usr/local/lib/python3.7/dist-packages (from rouge-score) (3.2.5)\n"
          ]
        }
      ],
      "source": [
        "!pip install rouge-score\n",
        "from rouge_score import rouge_scorer\n",
        "from __future__ import absolute_import\n",
        "from __future__ import division\n",
        "from __future__ import print_function\n",
        "\n",
        "import collections\n",
        "import re\n",
        "\n",
        "from nltk.stem import porter\n",
        "import six\n",
        "from six.moves import map\n",
        "from six.moves import range\n",
        "from rouge_score import scoring\n",
        "# from rouge_score import tokenize\n",
        "\n",
        "\n",
        "class RougeScorer(scoring.BaseScorer):\n",
        "  \"\"\"Calculate rouges scores between two blobs of text.\n",
        "\n",
        "  Sample usage:\n",
        "    scorer = RougeScorer(['rouge1', 'rougeL'], use_stemmer=True)\n",
        "    scores = scorer.score('The quick brown fox jumps over the lazy dog',\n",
        "                          'The quick brown dog jumps on the log.')\n",
        "  \"\"\"\n",
        "\n",
        "  def __init__(self, rouge_types, use_stemmer=False):\n",
        "    \"\"\"Initializes a new RougeScorer.\n",
        "\n",
        "    Valid rouge types that can be computed are:\n",
        "      rougen (e.g. rouge1, rouge2): n-gram based scoring.\n",
        "      rougeL: Longest common subsequence based scoring.\n",
        "\n",
        "    Args:\n",
        "      rouge_types: A list of rouge types to calculate.\n",
        "      use_stemmer: Bool indicating whether Porter stemmer should be used to\n",
        "        strip word suffixes to improve matching.\n",
        "    Returns:\n",
        "      A dict mapping rouge types to Score tuples.\n",
        "    \"\"\"\n",
        "\n",
        "    self.rouge_types = rouge_types\n",
        "    self._stemmer = porter.PorterStemmer() if use_stemmer else None\n",
        "\n",
        "  def score(self, target, prediction):\n",
        "    \"\"\"Calculates rouge scores between the target and prediction.\n",
        "\n",
        "    Args:\n",
        "      target: Text containing the target (ground truth) text.\n",
        "      prediction: Text containing the predicted text.\n",
        "    Returns:\n",
        "      A dict mapping each rouge type to a Score object.\n",
        "    Raises:\n",
        "      ValueError: If an invalid rouge type is encountered.\n",
        "    \"\"\"\n",
        "\n",
        "    target_tokens = tokenize(target, self._stemmer)\n",
        "    prediction_tokens = tokenize(prediction, self._stemmer)\n",
        "    result = {}\n",
        "\n",
        "    for rouge_type in self.rouge_types:\n",
        "      if rouge_type == \"rougeL\":\n",
        "        # Rouge from longest common subsequences.\n",
        "        scores = _score_lcs(target_tokens, prediction_tokens)\n",
        "      elif rouge_type == \"rougeLsum\":\n",
        "        # Note: Does not support multi-line text.\n",
        "        def get_sents(text):\n",
        "          # Assume sentences are separated by newline.\n",
        "          sents = six.ensure_str(text).split(\"\\n\")\n",
        "          sents = [x for x in sents if len(x)]\n",
        "          return sents\n",
        "\n",
        "        target_tokens_list = [\n",
        "            tokenize(s, self._stemmer) for s in get_sents(target)]\n",
        "        prediction_tokens_list = [\n",
        "            tokenize(s, self._stemmer) for s in get_sents(prediction)]\n",
        "        scores = _summary_level_lcs(target_tokens_list,\n",
        "                                    prediction_tokens_list)\n",
        "      elif re.match(r\"rouge[0-9]$\", six.ensure_str(rouge_type)):\n",
        "        # Rouge from n-grams.\n",
        "        n = int(rouge_type[5:])\n",
        "        if n <= 0:\n",
        "          raise ValueError(\"rougen requires positive n: %s\" % rouge_type)\n",
        "        target_ngrams = _create_ngrams(target_tokens, n)\n",
        "        prediction_ngrams = _create_ngrams(prediction_tokens, n)\n",
        "        scores = _score_ngrams(target_ngrams, prediction_ngrams)\n",
        "      else:\n",
        "        raise ValueError(\"Invalid rouge type: %s\" % rouge_type)\n",
        "      result[rouge_type] = scores\n",
        "\n",
        "    return result\n",
        "\n",
        "\n",
        "def _create_ngrams(tokens, n):\n",
        "  \"\"\"Creates ngrams from the given list of tokens.\n",
        "\n",
        "  Args:\n",
        "    tokens: A list of tokens from which ngrams are created.\n",
        "    n: Number of tokens to use, e.g. 2 for bigrams.\n",
        "  Returns:\n",
        "    A dictionary mapping each bigram to the number of occurrences.\n",
        "  \"\"\"\n",
        "\n",
        "  ngrams = collections.Counter()\n",
        "  for ngram in (tuple(tokens[i:i + n]) for i in range(len(tokens) - n + 1)):\n",
        "    ngrams[ngram] += 1\n",
        "  return ngrams\n",
        "\n",
        "\n",
        "def _score_lcs(target_tokens, prediction_tokens):\n",
        "  \"\"\"Computes LCS (Longest Common Subsequence) rouge scores.\n",
        "\n",
        "  Args:\n",
        "    target_tokens: Tokens from the target text.\n",
        "    prediction_tokens: Tokens from the predicted text.\n",
        "  Returns:\n",
        "    A Score object containing computed scores.\n",
        "  \"\"\"\n",
        "\n",
        "  if not target_tokens or not prediction_tokens:\n",
        "    return scoring.Score(precision=0, recall=0, fmeasure=0)\n",
        "\n",
        "  # Compute length of LCS from the bottom up in a table (DP appproach).\n",
        "  lcs_table = _lcs_table(target_tokens, prediction_tokens)\n",
        "  lcs_length = lcs_table[-1][-1]\n",
        "\n",
        "  precision = lcs_length / len(prediction_tokens)\n",
        "  recall = lcs_length / len(target_tokens)\n",
        "  fmeasure = scoring.fmeasure(precision, recall)\n",
        "\n",
        "  return scoring.Score(precision=precision, recall=recall, fmeasure=fmeasure)\n",
        "\n",
        "\n",
        "def _lcs_table(ref, can):\n",
        "  \"\"\"Create 2-d LCS score table.\"\"\"\n",
        "  rows = len(ref)\n",
        "  cols = len(can)\n",
        "  lcs_table = [[0] * (cols + 1) for _ in range(rows + 1)]\n",
        "  for i in range(1, rows + 1):\n",
        "    for j in range(1, cols + 1):\n",
        "      if ref[i - 1] == can[j - 1]:\n",
        "        lcs_table[i][j] = lcs_table[i - 1][j - 1] + 1\n",
        "      else:\n",
        "        lcs_table[i][j] = max(lcs_table[i - 1][j], lcs_table[i][j - 1])\n",
        "  return lcs_table\n",
        "\n",
        "\n",
        "def _backtrack_norec(t, ref, can):\n",
        "  \"\"\"Read out LCS.\"\"\"\n",
        "  i = len(ref)\n",
        "  j = len(can)\n",
        "  lcs = []\n",
        "  while i > 0 and j > 0:\n",
        "    if ref[i - 1] == can[j - 1]:\n",
        "      lcs.insert(0, i-1)\n",
        "      i -= 1\n",
        "      j -= 1\n",
        "    elif t[i][j - 1] > t[i - 1][j]:\n",
        "      j -= 1\n",
        "    else:\n",
        "      i -= 1\n",
        "  return lcs\n",
        "\n",
        "\n",
        "def _summary_level_lcs(ref_sent, can_sent):\n",
        "  \"\"\"ROUGE: Summary-level LCS, section 3.2 in ROUGE paper.\n",
        "\n",
        "  Args:\n",
        "    ref_sent: list of tokenized reference sentences\n",
        "    can_sent: list of tokenized candidate sentences\n",
        "\n",
        "  Returns:\n",
        "    summary level ROUGE score\n",
        "  \"\"\"\n",
        "  if not ref_sent or not can_sent:\n",
        "    return scoring.Score(precision=0, recall=0, fmeasure=0)\n",
        "\n",
        "  m = sum(map(len, ref_sent))\n",
        "  n = sum(map(len, can_sent))\n",
        "  if not n or not m:\n",
        "    return scoring.Score(precision=0, recall=0, fmeasure=0)\n",
        "\n",
        "  # get token counts to prevent double counting\n",
        "  token_cnts_r = collections.Counter()\n",
        "  token_cnts_c = collections.Counter()\n",
        "  for s in ref_sent:\n",
        "    # s is a list of tokens\n",
        "    token_cnts_r.update(s)\n",
        "  for s in can_sent:\n",
        "    token_cnts_c.update(s)\n",
        "\n",
        "  hits = 0\n",
        "  for r in ref_sent:\n",
        "    lcs = _union_lcs(r, can_sent)\n",
        "    # Prevent double-counting:\n",
        "    # The paper describes just computing hits += len(_union_lcs()),\n",
        "    # but the implementation prevents double counting. We also\n",
        "    # implement this as in version 1.5.5.\n",
        "    for t in lcs:\n",
        "      if token_cnts_c[t] > 0 and token_cnts_r[t] > 0:\n",
        "        hits += 1\n",
        "        token_cnts_c[t] -= 1\n",
        "        token_cnts_r[t] -= 1\n",
        "\n",
        "  recall = hits / m\n",
        "  precision = hits / n\n",
        "  fmeasure = scoring.fmeasure(precision, recall)\n",
        "  return scoring.Score(precision=precision, recall=recall, fmeasure=fmeasure)\n",
        "\n",
        "\n",
        "def _union_lcs(ref, c_list):\n",
        "  \"\"\"Find union LCS between a ref sentence and list of candidate sentences.\n",
        "\n",
        "  Args:\n",
        "    ref: list of tokens\n",
        "    c_list: list of list of indices for LCS into reference summary\n",
        "\n",
        "  Returns:\n",
        "    List of tokens in ref representing union LCS.\n",
        "  \"\"\"\n",
        "  lcs_list = [lcs_ind(ref, c) for c in c_list]\n",
        "  return [ref[i] for i in _find_union(lcs_list)]\n",
        "\n",
        "\n",
        "def _find_union(lcs_list):\n",
        "  \"\"\"Finds union LCS given a list of LCS.\"\"\"\n",
        "  return sorted(list(set().union(*lcs_list)))\n",
        "\n",
        "\n",
        "def lcs_ind(ref, can):\n",
        "  \"\"\"Returns one of the longest lcs.\"\"\"\n",
        "  t = _lcs_table(ref, can)\n",
        "  return _backtrack_norec(t, ref, can)\n",
        "\n",
        "\n",
        "def _score_ngrams(target_ngrams, prediction_ngrams):\n",
        "  \"\"\"Compute n-gram based rouge scores.\n",
        "\n",
        "  Args:\n",
        "    target_ngrams: A Counter object mapping each ngram to number of\n",
        "      occurrences for the target text.\n",
        "    prediction_ngrams: A Counter object mapping each ngram to number of\n",
        "      occurrences for the prediction text.\n",
        "  Returns:\n",
        "    A Score object containing computed scores.\n",
        "  \"\"\"\n",
        "\n",
        "  intersection_ngrams_count = 0\n",
        "  for ngram in six.iterkeys(target_ngrams):\n",
        "    intersection_ngrams_count += min(target_ngrams[ngram],\n",
        "                                     prediction_ngrams[ngram])\n",
        "  target_ngrams_count = sum(target_ngrams.values())\n",
        "  prediction_ngrams_count = sum(prediction_ngrams.values())\n",
        "\n",
        "  precision = intersection_ngrams_count / max(prediction_ngrams_count, 1)\n",
        "  recall = intersection_ngrams_count / max(target_ngrams_count, 1)\n",
        "  fmeasure = scoring.fmeasure(precision, recall)\n",
        "\n",
        "  return scoring.Score(precision=precision, recall=recall, fmeasure=fmeasure)"
      ]
    },
    {
      "cell_type": "code",
      "execution_count": null,
      "metadata": {
        "id": "OoLH4O7Dkv0O"
      },
      "outputs": [],
      "source": [
        "def tokenize(text, stemmer):\n",
        "  \"\"\"Tokenize input text into a list of tokens.\n",
        "\n",
        "  This approach aims to replicate the approach taken by Chin-Yew Lin in\n",
        "  the original ROUGE implementation.\n",
        "\n",
        "  Args:\n",
        "    text: A text blob to tokenize.\n",
        "    stemmer: An optional stemmer.\n",
        "\n",
        "  Returns:\n",
        "    A list of string tokens extracted from input text.\n",
        "  \"\"\"\n",
        "\n",
        "  # Convert everything to lowercase.\n",
        "  text = text.lower()\n",
        "  # Replace any non-alpha-numeric characters with spaces.\n",
        "  # text = re.sub(r\"[^a-z0-9]+\", \" \", six.ensure_str(text))\n",
        "  # ^ [ / u4E00 - / u9FFF]+$\n",
        "  tokens = re.split(r\"\\s+\", text)\n",
        "\n",
        "  # print(tokens)\n",
        "  # print(1)\n",
        "  if stemmer:\n",
        "    # Only stem words more than 3 characters long.\n",
        "    tokens = [stemmer.stem(x) if len(x) > 3 else x for x in tokens]\n",
        "\n",
        "  # print(tokens)\n",
        "  # print(2)\n",
        "  # print(six.ensure_str(x))\n",
        "  # One final check to drop any empty or invalid tokens.\n",
        "  # tokens = [x for x in tokens if re.match(r\"^[/u4E00 - /u9FFF]+$\", six.ensure_str(x))]\n",
        "  # tokens = [x for x in tokens if re.match(r\"^[a-z0-9]+$\", six.ensure_str(x))]\n",
        "  tokens=[x for x in tokens if six.ensure_str]\n",
        "\n",
        "\n",
        "  # print(tokens)\n",
        "  # print(3)\n",
        "  return tokens"
      ]
    },
    {
      "cell_type": "code",
      "execution_count": null,
      "metadata": {
        "colab": {
          "base_uri": "https://localhost:8080/"
        },
        "id": "xXlmXdXebfRB",
        "outputId": "1790470f-bba2-48c3-f0f1-e7906b6c41d9"
      },
      "outputs": [
        {
          "name": "stdout",
          "output_type": "stream",
          "text": [
            "Reading lines...\n",
            "Read 20790 sentence pairs\n",
            "Trimmed to 20790 sentence pairs\n",
            "Counting words...\n",
            "Counted words:\n",
            "sv 141\n",
            "sub 156\n",
            "['tree window car skyscraper wheel building plant street vehicle traffic', '中餐厅 自动提款机 医药保健销售店 临街院门 美容美发店 生活服务场所 医疗保健服务场所 电讯营业厅 门牌信息 公交车站']\n"
          ]
        }
      ],
      "source": [
        "input_lang, output_lang, pairs = prepareData('sub', 'sv', True)\n",
        "print(random.choice(pairs))"
      ]
    },
    {
      "cell_type": "markdown",
      "metadata": {},
      "source": [
        "### evaluate model"
      ]
    },
    {
      "cell_type": "code",
      "execution_count": null,
      "metadata": {
        "id": "6O_jxDXpdWzU"
      },
      "outputs": [],
      "source": [
        "# torch.load with map_location=torch.device('cpu') \n",
        "import torch\n",
        "encoder1 = torch.load('/content/drive/MyDrive/encoder.pth')\n",
        "attn_decoder1 = torch.load('/content/drive/MyDrive/attn.pth')\n",
        "# model.eval()"
      ]
    },
    {
      "cell_type": "code",
      "execution_count": null,
      "metadata": {
        "id": "HkTf5JUJcZTH"
      },
      "outputs": [],
      "source": [
        "A=[]\n",
        "B=[]\n",
        "C=[]\n",
        "scorer = RougeScorer(['rouge1', 'rougeL'], use_stemmer=True)\n",
        "for i in test_pairs:\n",
        "  scores =  scorer.score(i[1],' '.join(evaluate(encoder1, attn_decoder1,i[0], 11)[0][:-1]))\n",
        "  # print(scores['rouge1'])\n",
        "  tmp=scores['rouge1']\n",
        "  A.append(tmp[0])\n",
        "  B.append(tmp[1])\n",
        "  C.append(tmp[2])"
      ]
    },
    {
      "cell_type": "code",
      "execution_count": 1,
      "metadata": {},
      "outputs": [
        {
          "name": "stdout",
          "output_type": "stream",
          "text": [
            "0.499\n",
            "0.500\n",
            "0.499\n"
          ]
        }
      ],
      "source": [
        "import numpy as np\n",
        "print(\"%.3f\" % np.mean(A))\n",
        "print(\"%.3f\" % np.mean(B))\n",
        "print(\"%.3f\" % np.mean(C))"
      ]
    },
    {
      "cell_type": "code",
      "execution_count": null,
      "metadata": {
        "id": "oCHr-3rSfY6E"
      },
      "outputs": [],
      "source": [
        "names=[]\n",
        "for i in test_pairs:\n",
        "  for j in i[0].split(' '):\n",
        "    if j not in names:\n",
        "      names.append(j)"
      ]
    },
    {
      "cell_type": "code",
      "execution_count": null,
      "metadata": {
        "colab": {
          "base_uri": "https://localhost:8080/",
          "height": 330
        },
        "id": "nAgVA6tJercB",
        "outputId": "2eec9c49-eb14-4644-c965-1681c480a202"
      },
      "outputs": [
        {
          "name": "stdout",
          "output_type": "stream",
          "text": [
            "['tree plant window train wheel car land building person house', '临街院门 中餐厅 生活服务场所 住宅区 学校 公司 住宿服务相关 驾校 宾馆酒店 快餐厅']\n",
            "['中餐厅', '临街院门', '住宅区', '生活服务场所', '临街院门', '政府机关', '公交车站', '美容美发店', '物流速递', '停车场', '<EOS>']\n"
          ]
        },
        {
          "data": {
            "text/plain": [
              "<matplotlib.image.AxesImage at 0x7fce47a02d10>"
            ]
          },
          "execution_count": 179,
          "metadata": {},
          "output_type": "execute_result"
        },
        {
          "data": {
            "image/png": "[encoded data removed]",
            "text/plain": [
              "<Figure size 288x288 with 1 Axes>"
            ]
          },
          "metadata": {
            "needs_background": "light"
          },
          "output_type": "display_data"
        }
      ],
      "source": [
        "%matplotlib inline\n",
        "MAX_LENGTH=10\n",
        "ceshi=test_pairs[12]\n",
        "\n",
        "print(ceshi)\n",
        "output_words, attentions,XX = evaluate(\n",
        "    encoder1,attn_decoder1,ceshi[0],MAX_LENGTH+1)\n",
        "print(output_words)\n",
        "plt.matshow(attentions.numpy())\n",
        "# plt.show()"
      ]
    },
    {
      "cell_type": "code",
      "execution_count": null,
      "metadata": {
        "id": "-vynv5zngpVx"
      },
      "outputs": [],
      "source": [
        "np.save(\"/content/drive/MyDrive/data/attentionty12two.npy\",attentions.numpy())\n",
        "np.save(\"/content/drive/MyDrive/data/attentioncoderty12two.npy\",XX.cpu().numpy())"
      ]
    }
  ],
  "metadata": {
    "accelerator": "GPU",
    "colab": {
      "name": "seq2seq_translation_tutorial.ipynb",
      "provenance": []
    },
    "kernelspec": {
      "display_name": "Python 3.8.8 ('base')",
      "language": "python",
      "name": "python3"
    },
    "language_info": {
      "codemirror_mode": {
        "name": "ipython",
        "version": 3
      },
      "file_extension": ".py",
      "mimetype": "text/x-python",
      "name": "python",
      "nbconvert_exporter": "python",
      "pygments_lexer": "ipython3",
      "version": "3.8.8"
    },
    "vscode": {
      "interpreter": {
        "hash": "ad2bdc8ecc057115af97d19610ffacc2b4e99fae6737bb82f5d7fb13d2f2c186"
      }
    }
  },
  "nbformat": 4,
  "nbformat_minor": 0
}
